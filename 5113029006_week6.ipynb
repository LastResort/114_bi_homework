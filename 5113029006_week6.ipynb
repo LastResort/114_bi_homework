{
  "cells": [
    {
      "cell_type": "markdown",
      "metadata": {
        "id": "UwcN41PQf73W"
      },
      "source": [
        "# <b>Hugging Face</b>\n",
        "Hugging Face 網址：https://huggingface.co/\n",
        "\n",
        "Hugging Face 是 AI 領域的開放平台，像 GitHub 一樣託管並分享 AI 模型與資料集。也收錄了很多來自頂尖研究的模型，涵蓋 NLP、計算機視覺、語音處理等領域。使用者可以在 Hub 上存取、分享、微調模型，加速 AI 的合作與創新。"
      ]
    },
    {
      "cell_type": "code",
      "execution_count": 1,
      "metadata": {
        "colab": {
          "base_uri": "https://localhost:8080/"
        },
        "id": "Pfwn6jilq0ro",
        "outputId": "ade421b0-3aa6-40c1-b779-30cda7e93aa4"
      },
      "outputs": [
        {
          "output_type": "stream",
          "name": "stdout",
          "text": [
            "Requirement already satisfied: datasets in /usr/local/lib/python3.12/dist-packages (4.0.0)\n",
            "Requirement already satisfied: filelock in /usr/local/lib/python3.12/dist-packages (from datasets) (3.20.0)\n",
            "Requirement already satisfied: numpy>=1.17 in /usr/local/lib/python3.12/dist-packages (from datasets) (2.0.2)\n",
            "Requirement already satisfied: pyarrow>=15.0.0 in /usr/local/lib/python3.12/dist-packages (from datasets) (18.1.0)\n",
            "Requirement already satisfied: dill<0.3.9,>=0.3.0 in /usr/local/lib/python3.12/dist-packages (from datasets) (0.3.8)\n",
            "Requirement already satisfied: pandas in /usr/local/lib/python3.12/dist-packages (from datasets) (2.2.2)\n",
            "Requirement already satisfied: requests>=2.32.2 in /usr/local/lib/python3.12/dist-packages (from datasets) (2.32.4)\n",
            "Requirement already satisfied: tqdm>=4.66.3 in /usr/local/lib/python3.12/dist-packages (from datasets) (4.67.1)\n",
            "Requirement already satisfied: xxhash in /usr/local/lib/python3.12/dist-packages (from datasets) (3.6.0)\n",
            "Requirement already satisfied: multiprocess<0.70.17 in /usr/local/lib/python3.12/dist-packages (from datasets) (0.70.16)\n",
            "Requirement already satisfied: fsspec<=2025.3.0,>=2023.1.0 in /usr/local/lib/python3.12/dist-packages (from fsspec[http]<=2025.3.0,>=2023.1.0->datasets) (2025.3.0)\n",
            "Requirement already satisfied: huggingface-hub>=0.24.0 in /usr/local/lib/python3.12/dist-packages (from datasets) (0.35.3)\n",
            "Requirement already satisfied: packaging in /usr/local/lib/python3.12/dist-packages (from datasets) (25.0)\n",
            "Requirement already satisfied: pyyaml>=5.1 in /usr/local/lib/python3.12/dist-packages (from datasets) (6.0.3)\n",
            "Requirement already satisfied: aiohttp!=4.0.0a0,!=4.0.0a1 in /usr/local/lib/python3.12/dist-packages (from fsspec[http]<=2025.3.0,>=2023.1.0->datasets) (3.13.0)\n",
            "Requirement already satisfied: typing-extensions>=3.7.4.3 in /usr/local/lib/python3.12/dist-packages (from huggingface-hub>=0.24.0->datasets) (4.15.0)\n",
            "Requirement already satisfied: hf-xet<2.0.0,>=1.1.3 in /usr/local/lib/python3.12/dist-packages (from huggingface-hub>=0.24.0->datasets) (1.1.10)\n",
            "Requirement already satisfied: charset_normalizer<4,>=2 in /usr/local/lib/python3.12/dist-packages (from requests>=2.32.2->datasets) (3.4.4)\n",
            "Requirement already satisfied: idna<4,>=2.5 in /usr/local/lib/python3.12/dist-packages (from requests>=2.32.2->datasets) (3.11)\n",
            "Requirement already satisfied: urllib3<3,>=1.21.1 in /usr/local/lib/python3.12/dist-packages (from requests>=2.32.2->datasets) (2.5.0)\n",
            "Requirement already satisfied: certifi>=2017.4.17 in /usr/local/lib/python3.12/dist-packages (from requests>=2.32.2->datasets) (2025.10.5)\n",
            "Requirement already satisfied: python-dateutil>=2.8.2 in /usr/local/lib/python3.12/dist-packages (from pandas->datasets) (2.9.0.post0)\n",
            "Requirement already satisfied: pytz>=2020.1 in /usr/local/lib/python3.12/dist-packages (from pandas->datasets) (2025.2)\n",
            "Requirement already satisfied: tzdata>=2022.7 in /usr/local/lib/python3.12/dist-packages (from pandas->datasets) (2025.2)\n",
            "Requirement already satisfied: aiohappyeyeballs>=2.5.0 in /usr/local/lib/python3.12/dist-packages (from aiohttp!=4.0.0a0,!=4.0.0a1->fsspec[http]<=2025.3.0,>=2023.1.0->datasets) (2.6.1)\n",
            "Requirement already satisfied: aiosignal>=1.4.0 in /usr/local/lib/python3.12/dist-packages (from aiohttp!=4.0.0a0,!=4.0.0a1->fsspec[http]<=2025.3.0,>=2023.1.0->datasets) (1.4.0)\n",
            "Requirement already satisfied: attrs>=17.3.0 in /usr/local/lib/python3.12/dist-packages (from aiohttp!=4.0.0a0,!=4.0.0a1->fsspec[http]<=2025.3.0,>=2023.1.0->datasets) (25.4.0)\n",
            "Requirement already satisfied: frozenlist>=1.1.1 in /usr/local/lib/python3.12/dist-packages (from aiohttp!=4.0.0a0,!=4.0.0a1->fsspec[http]<=2025.3.0,>=2023.1.0->datasets) (1.8.0)\n",
            "Requirement already satisfied: multidict<7.0,>=4.5 in /usr/local/lib/python3.12/dist-packages (from aiohttp!=4.0.0a0,!=4.0.0a1->fsspec[http]<=2025.3.0,>=2023.1.0->datasets) (6.7.0)\n",
            "Requirement already satisfied: propcache>=0.2.0 in /usr/local/lib/python3.12/dist-packages (from aiohttp!=4.0.0a0,!=4.0.0a1->fsspec[http]<=2025.3.0,>=2023.1.0->datasets) (0.4.1)\n",
            "Requirement already satisfied: yarl<2.0,>=1.17.0 in /usr/local/lib/python3.12/dist-packages (from aiohttp!=4.0.0a0,!=4.0.0a1->fsspec[http]<=2025.3.0,>=2023.1.0->datasets) (1.22.0)\n",
            "Requirement already satisfied: six>=1.5 in /usr/local/lib/python3.12/dist-packages (from python-dateutil>=2.8.2->pandas->datasets) (1.17.0)\n"
          ]
        }
      ],
      "source": [
        "\"\"\"\n",
        "- datasets 是 Hugging Face 提供的資料集載入工具\n",
        "- 它整合了數千個公開資料集，包含 NLP、CV、Audio 等領域\n",
        "- 提供統一的介面來下載、處理和使用資料集\n",
        "- 支援快取機制，避免重複下載\n",
        "\"\"\"\n",
        "!pip install datasets"
      ]
    },
    {
      "cell_type": "markdown",
      "metadata": {
        "id": "pbAzKp4WM4O9"
      },
      "source": [
        "### <b>資料前處理</b>\n"
      ]
    },
    {
      "cell_type": "code",
      "execution_count": 2,
      "metadata": {
        "colab": {
          "base_uri": "https://localhost:8080/",
          "height": 680,
          "referenced_widgets": [
            "78799adb7204470aa8bc0889d140eecd",
            "cac3edc7470547c89fb33719a69ff34a",
            "a888662a7756412db455675a9b24e352",
            "4fa8fc6d1f1f4a589ba64e7a24c5d78e",
            "a5b8d3175d77474a9da96df1d39c8ac0",
            "22e60109268746659b4c40f0d386706b",
            "7b8ec0f554484c6ba13c38543ac97de1",
            "cad8db8b1fd54e9eb8b2661fe88401d1",
            "032d90476bc54cf4b5431c88420591a9",
            "dd2193cc9dd14169b84dd8883024cdf7",
            "4c52d2e90bf14d03a7cdc072ff5c0639",
            "df8e7abe1cda44009aa7774952aae33b",
            "89a2271d7ec94b36823d8c05a9dc206c",
            "b6bf60f9fd1647f79af33165656aa1ab",
            "50ffc52565d94a3a8aa85017217a626e",
            "e2f377d2a418474b9fefc2348768f547",
            "6429907573b04d929bfaee528dc24c87",
            "8b233bf4da884b7fac477a2b46872092",
            "fe145d863d4241639b5e703abac32cd3",
            "8060761b7ae14aed9c0cd827202b593e",
            "63a865651f434716999ca9f983e89d6c",
            "fcd1a0ef5277459cb925297ba3e24986",
            "7387f6e89afb4c81a5616e01d2cafa11",
            "455dc1f1464845409f1e69cc25f24e7e",
            "6de9312e7a29437e9911ec5ca792a158",
            "dcb74f7bf50d40c79b302e6696bc7e06",
            "b7f0c05be0944145b63d24c586ed9e41",
            "f69c1be11f1c4a04b6afc4b2ca660651",
            "0ed22c4e791f4e33944d4f7f1b1248ce",
            "a4fbb9d25a274385a46d2f24cc832d15",
            "dfc751320a9f4e84a7e7777564456611",
            "c224f69f36ea47338f543c8dc9f7bef3",
            "c01e2e8d60584be5966366b6b8516740",
            "692b55390ab8441888056c2c74fb37c7",
            "5be7124476d9435495c2d8b1fd217d8a",
            "3ea18cc7238944d596edd5173716bb00",
            "4148f128d0474aad815e4e2bd335c18f",
            "b17a05d8145e4395a293d03fef6391d6",
            "6da7f4bf051349208fd104f065fbb331",
            "b4da11bd16754765ab9cd672a308b94d",
            "bfc0a0075409483aaad011b0cb449765",
            "86b81d9d0e4d4c2ab7ff9cd282d77452",
            "c0293a5c7d884dc684c554e8f154a680",
            "06f49a4063564f03898d6eaba1d98efb",
            "4258f2c4c8ae4bcb8190652b9c24e5d3",
            "ed71a435359a401ca59fb3b6bdebfd45",
            "f774c7fb0d7142318629d16ccdfd1e5e",
            "3162b1e1c1684674ac5a2ef5f2ee1e74",
            "6e088cd3608441ac96a587864fa2d133",
            "dc914afa592a4c179f38eeb4e6670729",
            "3d60b574c4ea489fb165e5cd003f1968",
            "5265c9e516ed4838b6ba9d5ba1c78ebe",
            "711664bd9d5b441381f04f831cd21d6d",
            "84efe0d052d24e4188c772005a09cc72",
            "7fd1e49594654ccbb3bf3c4222f0bc18",
            "a746a18ac9344ec891324ac99ae0b0b5",
            "dbed16ace2814f5192c6e3bb0f6d3c51",
            "210f2ca17a894070afbd746340b78623",
            "57c7fb7eba8444848db815b43b581979",
            "ad7b7a6d4fd34e50a7077861c9071480",
            "f8f75d4c75364d0dbcd3f123e86b87d4",
            "85c1eb8914834adf9bae335d2fef39ac",
            "dd1ce7ee05f4452ab803001ba1024d65",
            "8084a7092a754297a10412302babe18c",
            "abcf67ff979c46029bdfbb181b2ac6fd",
            "74eca1fa2e8843eeb6e8727e08e9ea80"
          ]
        },
        "id": "KpamGxqud9SG",
        "outputId": "917e76a2-070d-4e37-94b3-c696a8b598f9"
      },
      "outputs": [
        {
          "output_type": "stream",
          "name": "stderr",
          "text": [
            "/usr/local/lib/python3.12/dist-packages/huggingface_hub/utils/_auth.py:94: UserWarning: \n",
            "The secret `HF_TOKEN` does not exist in your Colab secrets.\n",
            "To authenticate with the Hugging Face Hub, create a token in your settings tab (https://huggingface.co/settings/tokens), set it as secret in your Google Colab and restart your session.\n",
            "You will be able to reuse this secret in all of your notebooks.\n",
            "Please note that authentication is recommended but still optional to access public models or datasets.\n",
            "  warnings.warn(\n"
          ]
        },
        {
          "output_type": "display_data",
          "data": {
            "text/plain": [
              "README.md: 0.00B [00:00, ?B/s]"
            ],
            "application/vnd.jupyter.widget-view+json": {
              "version_major": 2,
              "version_minor": 0,
              "model_id": "78799adb7204470aa8bc0889d140eecd"
            }
          },
          "metadata": {}
        },
        {
          "output_type": "display_data",
          "data": {
            "text/plain": [
              "dataset_infos.json:   0%|          | 0.00/800 [00:00<?, ?B/s]"
            ],
            "application/vnd.jupyter.widget-view+json": {
              "version_major": 2,
              "version_minor": 0,
              "model_id": "df8e7abe1cda44009aa7774952aae33b"
            }
          },
          "metadata": {}
        },
        {
          "output_type": "display_data",
          "data": {
            "text/plain": [
              "data/train-00000-of-00001.parquet:   0%|          | 0.00/327k [00:00<?, ?B/s]"
            ],
            "application/vnd.jupyter.widget-view+json": {
              "version_major": 2,
              "version_minor": 0,
              "model_id": "7387f6e89afb4c81a5616e01d2cafa11"
            }
          },
          "metadata": {}
        },
        {
          "output_type": "display_data",
          "data": {
            "text/plain": [
              "data/test-00000-of-00001.parquet:   0%|          | 0.00/80.9k [00:00<?, ?B/s]"
            ],
            "application/vnd.jupyter.widget-view+json": {
              "version_major": 2,
              "version_minor": 0,
              "model_id": "692b55390ab8441888056c2c74fb37c7"
            }
          },
          "metadata": {}
        },
        {
          "output_type": "display_data",
          "data": {
            "text/plain": [
              "Generating train split:   0%|          | 0/3877 [00:00<?, ? examples/s]"
            ],
            "application/vnd.jupyter.widget-view+json": {
              "version_major": 2,
              "version_minor": 0,
              "model_id": "4258f2c4c8ae4bcb8190652b9c24e5d3"
            }
          },
          "metadata": {}
        },
        {
          "output_type": "display_data",
          "data": {
            "text/plain": [
              "Generating test split:   0%|          | 0/969 [00:00<?, ? examples/s]"
            ],
            "application/vnd.jupyter.widget-view+json": {
              "version_major": 2,
              "version_minor": 0,
              "model_id": "a746a18ac9344ec891324ac99ae0b0b5"
            }
          },
          "metadata": {}
        },
        {
          "output_type": "stream",
          "name": "stdout",
          "text": [
            "DatasetDict({\n",
            "    train: Dataset({\n",
            "        features: ['sentence', 'label'],\n",
            "        num_rows: 3877\n",
            "    })\n",
            "    test: Dataset({\n",
            "        features: ['sentence', 'label'],\n",
            "        num_rows: 969\n",
            "    })\n",
            "})\n",
            "訓練集： Dataset({\n",
            "    features: ['sentence', 'label'],\n",
            "    num_rows: 3877\n",
            "})\n",
            "測試集： Dataset({\n",
            "    features: ['sentence', 'label'],\n",
            "    num_rows: 969\n",
            "})\n",
            "訓練集欄位： ['sentence', 'label']\n",
            "測試集欄位： ['sentence', 'label']\n"
          ]
        }
      ],
      "source": [
        "from datasets import load_dataset\n",
        "\n",
        "\"\"\"\n",
        "為什麼選擇 auditor_sentiment 資料集？\n",
        "1. 金融領域專業性：專門針對財務報告和審計意見設計\n",
        "2. 標籤品質：由金融專家標註，確保情緒分類的準確性\n",
        "3. 真實場景：模擬實際金融分析師的工作情境\n",
        "4. 三分類問題：Negative(負面)、Neutral(中性)、Positive(正面)\n",
        "\n",
        "這個資料集適合用來訓練金融新聞情緒分析模型，\n",
        "\"\"\"\n",
        "\n",
        "# 使用已轉換好的版本\n",
        "dataset = load_dataset(\n",
        "    \"FinanceInc/auditor_sentiment\",  # 這是轉換後的版本\n",
        "    #split=\"train\"\n",
        ")\n",
        "\n",
        "print(dataset)\n",
        "\n",
        "print(\"訓練集：\", dataset['train'])\n",
        "print(\"測試集：\", dataset['test'])\n",
        "\n",
        "# 查看資料集的欄位名稱與類型\n",
        "print(\"訓練集欄位：\", dataset[\"train\"].column_names)\n",
        "print(\"測試集欄位：\", dataset[\"test\"].column_names)"
      ]
    },
    {
      "cell_type": "code",
      "execution_count": 3,
      "metadata": {
        "colab": {
          "base_uri": "https://localhost:8080/"
        },
        "id": "Ld1BVr6Vrwc9",
        "outputId": "e6e12cfe-f150-4cc1-f6d4-010e410bda58"
      },
      "outputs": [
        {
          "output_type": "stream",
          "name": "stdout",
          "text": [
            "\n",
            "訓練集前5筆：\n",
            "{'sentence': [\"Altia 's operating profit jumped to EUR 47 million from EUR 6.6 million .\", 'The agreement was signed with Biohit Healthcare Ltd , the UK-based subsidiary of Biohit Oyj , a Finnish public company which develops , manufactures and markets liquid handling products and diagnostic test systems .', 'Kesko pursues a strategy of healthy , focused growth concentrating on sales and services to consumer-customers .', 'Vaisala , headquartered in Helsinki in Finland , develops and manufactures electronic measurement systems for meteorology , environmental sciences , traffic and industry .', 'Also , a six-year historic analysis is provided for these markets .'], 'label': [2, 2, 2, 1, 1]}\n",
            "\n",
            "測試集前5筆：\n",
            "{'sentence': [\"TeliaSonera TLSN said the offer is in line with its strategy to increase its ownership in core business holdings and would strengthen Eesti Telekom 's offering to its customers .\", 'STORA ENSO , NORSKE SKOG , M-REAL , UPM-KYMMENE Credit Suisse First Boston ( CFSB ) raised the fair value for shares in four of the largest Nordic forestry groups .', \"Clothing retail chain Sepp+ñl+ñ 's sales increased by 8 % to EUR 155.2 mn , and operating profit rose to EUR 31.1 mn from EUR 17.1 mn in 2004 .\", 'Lifetree was founded in 2000 , and its revenues have risen on an average by 40 % with margins in late 30s .', \"Nordea Group 's operating profit increased in 2010 by 18 percent year-on-year to 3.64 billion euros and total revenue by 3 percent to 9.33 billion euros .\"], 'label': [2, 2, 2, 2, 2]}\n",
            "\n",
            "資料集的 keys： dict_keys(['train', 'test'])\n"
          ]
        }
      ],
      "source": [
        "# 查看訓練集中前幾筆數據\n",
        "print(\"\\n訓練集前5筆：\")\n",
        "print(dataset[\"train\"][:5])\n",
        "\n",
        "# 查看測試集中前幾筆數據\n",
        "print(\"\\n測試集前5筆：\")\n",
        "print(dataset[\"test\"][:5])\n",
        "\n",
        "# 查看資料集中有哪些 Keys\n",
        "print(\"\\n資料集的 keys：\", dataset.keys())"
      ]
    },
    {
      "cell_type": "code",
      "execution_count": 4,
      "metadata": {
        "colab": {
          "base_uri": "https://localhost:8080/"
        },
        "id": "6Zor1u19sN7H",
        "outputId": "d237387c-d6ff-49d1-c09c-f161e899fd3f"
      },
      "outputs": [
        {
          "output_type": "stream",
          "name": "stdout",
          "text": [
            "\n",
            "訓練集標籤分佈： Counter({1: 2320, 2: 1077, 0: 480})\n",
            "測試集標籤分佈： Counter({1: 559, 2: 286, 0: 124})\n"
          ]
        }
      ],
      "source": [
        "from collections import Counter # 計算列表中每個元素的出現次數\n",
        "\n",
        "\"\"\"\n",
        "為什麼要分析標籤分佈？\n",
        "1. 檢查類別不平衡(Class Imbalance)問題\n",
        "   - 如果某類別樣本過少，模型可能學不好該類別\n",
        "   - 可能需要使用過採樣(oversampling)或欠採樣(undersampling)\n",
        "\n",
        "2. 了解資料特性\n",
        "   - 金融文本中，中性(Neutral)通常佔多數\n",
        "   - 正面和負面情緒相對較少\n",
        "\n",
        "3. 決定評估指標\n",
        "   - 如果類別不平衡嚴重，準確率(Accuracy)可能不適合\n",
        "   - 應該使用 F1-score、Precision、Recall 等指標\n",
        "\"\"\"\n",
        "# label_map = {0: \"Negative\", 1: \"Neutral\", 2: \"Positive\"}\n",
        "# 計算訓練集標籤出現次數\n",
        "label_counts_train = Counter(dataset[\"train\"][\"label\"])\n",
        "print(\"\\n訓練集標籤分佈：\", label_counts_train)\n",
        "\n",
        "# 計算測試集標籤出現次數\n",
        "label_counts_test = Counter(dataset[\"test\"][\"label\"])\n",
        "print(\"測試集標籤分佈：\", label_counts_test)"
      ]
    },
    {
      "cell_type": "code",
      "execution_count": 5,
      "metadata": {
        "colab": {
          "base_uri": "https://localhost:8080/"
        },
        "id": "1JdIzMmysUOf",
        "outputId": "08ff62a7-dcaf-4c5b-cca8-6896723d9683"
      },
      "outputs": [
        {
          "output_type": "stream",
          "name": "stdout",
          "text": [
            "\n",
            "訓練集前5筆：\n",
            "                                            sentence  label\n",
            "0  Altia 's operating profit jumped to EUR 47 mil...      2\n",
            "1  The agreement was signed with Biohit Healthcar...      2\n",
            "2  Kesko pursues a strategy of healthy , focused ...      2\n",
            "3  Vaisala , headquartered in Helsinki in Finland...      1\n",
            "4  Also , a six-year historic analysis is provide...      1\n",
            "\n",
            "測試集前5筆：\n",
            "                                            sentence  label\n",
            "0  TeliaSonera TLSN said the offer is in line wit...      2\n",
            "1  STORA ENSO , NORSKE SKOG , M-REAL , UPM-KYMMEN...      2\n",
            "2  Clothing retail chain Sepp+ñl+ñ 's sales incre...      2\n",
            "3  Lifetree was founded in 2000 , and its revenue...      2\n",
            "4  Nordea Group 's operating profit increased in ...      2\n"
          ]
        }
      ],
      "source": [
        "import pandas as pd  # 結構化資料處理套件\n",
        "\n",
        "\"\"\"\n",
        "為什麼要轉換成 DataFrame？\n",
        "1. 更直觀的資料檢視：表格形式更容易閱讀和理解\n",
        "2. 豐富的資料處理功能：pandas 提供大量資料清洗工具\n",
        "3. 方便進行統計分析：可以快速計算統計量\n",
        "4. 易於視覺化：可以搭配 matplotlib、seaborn 繪圖\n",
        "\"\"\"\n",
        "\n",
        "# 轉換為 DataFrame\n",
        "df_train = pd.DataFrame(dataset[\"train\"])\n",
        "df_test = pd.DataFrame(dataset[\"test\"])\n",
        "\n",
        "print(\"\\n訓練集前5筆：\")\n",
        "print(df_train.head())\n",
        "\n",
        "print(\"\\n測試集前5筆：\")\n",
        "print(df_test.head())"
      ]
    },
    {
      "cell_type": "code",
      "execution_count": 6,
      "metadata": {
        "colab": {
          "base_uri": "https://localhost:8080/"
        },
        "id": "JuqLq2Kqs1Dk",
        "outputId": "f8d92ccc-0ac7-4f30-fdd0-feb6796ebd6a"
      },
      "outputs": [
        {
          "output_type": "stream",
          "name": "stdout",
          "text": [
            "\n",
            "訓練集空值： sentence    0\n",
            "label       0\n",
            "dtype: int64\n",
            "測試集空值： sentence    0\n",
            "label       0\n",
            "dtype: int64\n",
            "\n",
            "訓練集大小： (3872, 2)\n",
            "測試集大小： (969, 2)\n"
          ]
        }
      ],
      "source": [
        "\"\"\"\n",
        "為什麼要檢查空值和重複值？\n",
        "1. 空值(Null values)問題\n",
        "   - 空值會導致模型訓練失敗或產生錯誤\n",
        "   - 需要決定是刪除還是填補(imputation)\n",
        "\n",
        "2. 重複值(Duplicates)問題\n",
        "   - 重複的句子會讓模型過度擬合該樣本\n",
        "   - 影響模型的泛化能力\n",
        "   - 可能導致評估指標不準確\n",
        "\"\"\"\n",
        "# 檢查空值\n",
        "print(\"\\n訓練集空值：\", df_train.isnull().sum())\n",
        "print(\"測試集空值：\", df_test.isnull().sum())\n",
        "\n",
        "# 刪除重複值（如果有的話）\n",
        "df_train.drop_duplicates(subset=[\"sentence\"], inplace=True)\n",
        "df_test.drop_duplicates(subset=[\"sentence\"], inplace=True)\n",
        "\n",
        "print(\"\\n訓練集大小：\", df_train.shape)\n",
        "print(\"測試集大小：\", df_test.shape)"
      ]
    },
    {
      "cell_type": "code",
      "execution_count": 7,
      "metadata": {
        "colab": {
          "base_uri": "https://localhost:8080/"
        },
        "id": "m2WaN3BrsYOF",
        "outputId": "4ce4e7d4-fb00-4b9d-e709-56852825dad4"
      },
      "outputs": [
        {
          "output_type": "stream",
          "name": "stdout",
          "text": [
            "\n",
            "資料集劃分：\n",
            "訓練集大小：3101\n",
            "驗證集大小：776 （從訓練集切出，用於訓練過程中的評估）\n",
            "測試集大小：969 （保留到最後才使用，避免資訊洩漏）\n"
          ]
        }
      ],
      "source": [
        "train_val_split = dataset[\"train\"].train_test_split(test_size=0.2, seed=42)\n",
        "train_dataset = train_val_split[\"train\"]\n",
        "val_dataset = train_val_split[\"test\"]\n",
        "test_dataset = dataset[\"test\"]\n",
        "print(\"\\n資料集劃分：\")\n",
        "print(f\"訓練集大小：{len(train_dataset)}\")\n",
        "print(f\"驗證集大小：{len(val_dataset)} （從訓練集切出，用於訓練過程中的評估）\")\n",
        "print(f\"測試集大小：{len(test_dataset)} （保留到最後才使用，避免資訊洩漏）\")"
      ]
    },
    {
      "cell_type": "code",
      "execution_count": 8,
      "metadata": {
        "colab": {
          "base_uri": "https://localhost:8080/",
          "height": 276,
          "referenced_widgets": [
            "aecc6fabe34b46e0bdcf3eaebbabfb3d",
            "3b70b4683eb24f3aa4aad4472cf696b0",
            "1b5bd45af17b4417934d1174fdaa4930",
            "0827387d910446f09a3f0d6d9fa20bb5",
            "cc3c13d192db472fa7574a8e9c14c414",
            "c6b7574f8ef64501b5e331d3f0060a5b",
            "271a9d3bafb34c879999dd4ce3700e9d",
            "7a20c7b887c04938acac66d693cd9b64",
            "7136edc5e92f4fcabc75ac715de3a7b9",
            "3c2f9556c28645d698666ecbf4e337ce",
            "7b240138c6084c44b20fa8b2e7500038",
            "1e60b76bad8d4ebcb99fd4fc34a335df",
            "7e1ecd847fb3481698788c416d419c85",
            "839784805b3b42d582a0bbaba531ff5b",
            "2a3bfd04d5cc4f009f438abf29b12495",
            "5f7a0564ea2d4e5ea626e4c8ac2877a1",
            "da6bec986ac34402bb0e0b18719bced6",
            "0227c961496644b1a584fbd3211f71f8",
            "578a1a8a9507443ebf3dbabb8c5a2cc4",
            "321593aa34194202bf283e6853dd9fd2",
            "d825458443a2408cbd5a83482274b7d9",
            "5bec6301812a4c369672836f87191fc7",
            "94452b485c6545f4af6eb4c95809b1c4",
            "2eba207795a1479a920664bc259bb0bd",
            "86853a2db7904c0db5a0b4eb7dcf86b5",
            "419849d6d4ed4119a68f17de8c93ad41",
            "b425e09272e0490c9d6417a691d9c2f1",
            "c5a597eb1e9442ce8e990f957360d8ef",
            "085d6fb1d4f24fa08df84547f7024387",
            "c6c14417a3f54b73a38b726694934348",
            "f4e11c3b677f4a9cb04f83317b9f558c",
            "b09b136ba32b46449afb93a5391c370c",
            "b7c1f03740a446188e52c91d1bd08234",
            "b3c29fce70f14cbf860a356915d350e6",
            "4756b08b2a994dd495bc36aaca891d7a",
            "5a3d3be09ddc45e297aea619eb964428",
            "a2a1cc900c754692b9e33374d4da4a61",
            "746e4e08d575488388da1fcb9af171c0",
            "f8d7006dd8d34780b7ad21891ad4d511",
            "e3e2f78c6c66461e887a5a798541ef05",
            "bfa886f81cc94aa4af3df8ea8b6da905",
            "7d9daad3648b40389f3a6bb3dbbf3738",
            "bde5d0638ea54045a911ece4bb632a05",
            "c787ee8bfff847d5bd979792fff71d95",
            "e8ab29afe8ee4ef1b31afd9d66506003",
            "1ec2c42b12a440f8bf507bfe2ff2bdaa",
            "4550d252793f4ab49f02e810fb213a4b",
            "89a4e837183547ebaa158df908d66887",
            "8c8574b4e6404a1a98dd90ba5101ec2c",
            "38c12471d7474297b399985bfcfc0c9c",
            "b58ceaf7b91945869672d9168d675299",
            "2c0753f5c7524559898940d37db80dfc",
            "2fb228b590b04f5194037fa370405b3f",
            "feca74efc50e4a5b825f07f9c022257e",
            "4708a9711b024f5abc9029a6e2b3c79e",
            "b5c9c61ea2154fe78990612a2a10450a",
            "34b8a60147d844d4aa331132d0767ef0",
            "2c979b98beee4d568d2653d6be36fe43",
            "f0a41c6811424be0910e0a93dfcfb898",
            "7b5c319816b4403caf4000ec6a514676",
            "d2c63da7ab554599818cddc53c4fd436",
            "434c3f231611437b8fa6ff3bff2c275a",
            "1547c0ed8b8242839a76b38265ea2a45",
            "4b78f912bde146eca32f2a2c053298a9",
            "fd728dffb7e64b67899501496c590a99",
            "d01fefdaea2743ae9c8a12cdacda70d0",
            "7f74aed54b934af8adade5e52d9e66da",
            "2cb2fa841c1f457eae70fb171bf62b65",
            "d744a2f190a941ceac173b14229e3765",
            "e89e0ef58a77452aa6f0b233688b6104",
            "b3d9a2e5817a40cf80fab0cf28138614",
            "18e3e3673364413880f351d0ad371064",
            "4945db695a9c4a7c8723ee257bb020de",
            "187525a7c3fb49fbae37ed007a864ddb",
            "2a29e52148134461b17c071c494f98f4",
            "faea81c061e24b2bb92b06575f8ed909",
            "9535f0e4668e425eb04dc180c1a6b8ef"
          ]
        },
        "id": "yt-UA3uXsrD4",
        "outputId": "ea9b7e1c-615d-4f04-a1de-c0cad2bdbb4a"
      },
      "outputs": [
        {
          "output_type": "stream",
          "name": "stdout",
          "text": [
            "\n",
            "使用的模型：ProsusAI/finbert\n"
          ]
        },
        {
          "output_type": "display_data",
          "data": {
            "text/plain": [
              "tokenizer_config.json:   0%|          | 0.00/252 [00:00<?, ?B/s]"
            ],
            "application/vnd.jupyter.widget-view+json": {
              "version_major": 2,
              "version_minor": 0,
              "model_id": "aecc6fabe34b46e0bdcf3eaebbabfb3d"
            }
          },
          "metadata": {}
        },
        {
          "output_type": "display_data",
          "data": {
            "text/plain": [
              "config.json:   0%|          | 0.00/758 [00:00<?, ?B/s]"
            ],
            "application/vnd.jupyter.widget-view+json": {
              "version_major": 2,
              "version_minor": 0,
              "model_id": "1e60b76bad8d4ebcb99fd4fc34a335df"
            }
          },
          "metadata": {}
        },
        {
          "output_type": "display_data",
          "data": {
            "text/plain": [
              "vocab.txt: 0.00B [00:00, ?B/s]"
            ],
            "application/vnd.jupyter.widget-view+json": {
              "version_major": 2,
              "version_minor": 0,
              "model_id": "94452b485c6545f4af6eb4c95809b1c4"
            }
          },
          "metadata": {}
        },
        {
          "output_type": "display_data",
          "data": {
            "text/plain": [
              "special_tokens_map.json:   0%|          | 0.00/112 [00:00<?, ?B/s]"
            ],
            "application/vnd.jupyter.widget-view+json": {
              "version_major": 2,
              "version_minor": 0,
              "model_id": "b3c29fce70f14cbf860a356915d350e6"
            }
          },
          "metadata": {}
        },
        {
          "output_type": "display_data",
          "data": {
            "text/plain": [
              "Map:   0%|          | 0/3101 [00:00<?, ? examples/s]"
            ],
            "application/vnd.jupyter.widget-view+json": {
              "version_major": 2,
              "version_minor": 0,
              "model_id": "e8ab29afe8ee4ef1b31afd9d66506003"
            }
          },
          "metadata": {}
        },
        {
          "output_type": "display_data",
          "data": {
            "text/plain": [
              "Map:   0%|          | 0/776 [00:00<?, ? examples/s]"
            ],
            "application/vnd.jupyter.widget-view+json": {
              "version_major": 2,
              "version_minor": 0,
              "model_id": "b5c9c61ea2154fe78990612a2a10450a"
            }
          },
          "metadata": {}
        },
        {
          "output_type": "display_data",
          "data": {
            "text/plain": [
              "Map:   0%|          | 0/969 [00:00<?, ? examples/s]"
            ],
            "application/vnd.jupyter.widget-view+json": {
              "version_major": 2,
              "version_minor": 0,
              "model_id": "7f74aed54b934af8adade5e52d9e66da"
            }
          },
          "metadata": {}
        }
      ],
      "source": [
        "from transformers import AutoTokenizer  # AutoTokenizer 可以根據指定的模型名稱，自動選擇和載入與該模型相匹配的分詞器\n",
        "\n",
        "\n",
        "\"\"\"\n",
        "=============================================================================\n",
        "【作業 1：模型選擇】\n",
        "=============================================================================\n",
        "\n",
        "什麼是 Tokenizer？\n",
        "- 將文本轉換成模型可以理解的數字序列\n",
        "- 不同模型有不同的 tokenization 策略\n",
        "- BERT 使用 WordPiece，將詞切成子詞單元\n",
        "\n",
        "可選模型比較：\n",
        "\n",
        "1. bert-base-uncased (預設)\n",
        "   優點：經典模型，效果穩定，社群資源豐富\n",
        "   缺點：模型較大(110M參數)，訓練速度較慢\n",
        "   適用：標準 NLP 任務，對效果要求高\n",
        "\n",
        "2. distilbert-base-uncased\n",
        "   優點：BERT 的蒸餾版本，速度快 60%，模型小 40%\n",
        "   缺點：準確率略低於 BERT (約 2-3%)\n",
        "   適用：計算資源有限，需要快速迭代\n",
        "\n",
        "3. roberta-base\n",
        "   優點：改進的 BERT，通常效果更好\n",
        "   缺點：訓練時間稍長\n",
        "   適用：追求更高準確率\n",
        "\n",
        "4. albert-base-v2\n",
        "   優點：參數共享技術，模型很小但效果不錯\n",
        "   缺點：推理速度較慢\n",
        "   適用：記憶體受限的場景\n",
        "\n",
        "5. ProsusAI/finbert\n",
        "   優點：專門在金融文本上預訓練，理解金融術語\n",
        "   缺點：資料集較小，可能過擬合\n",
        "   適用：金融領域專業任務（最推薦！）\n",
        "\n",
        "6. bert-base-chinese\n",
        "   優點：支援中文\n",
        "   缺點：英文效果不佳\n",
        "   適用：中文金融文本分析\n",
        "\n",
        "評估面向：\n",
        "✓ 訓練時間\n",
        "✓ 驗證集 F1-score\n",
        "✓ 測試集 F1-score\n",
        "✓ 模型大小\n",
        "✓ 推理速度\n",
        "\"\"\"\n",
        "# 使用BERT Tokenizer 進行Tokenization(分詞)\n",
        "#model_name = \"bert-base-uncased\"  # 請修改這裡！\n",
        "model_name = \"ProsusAI/finbert\"\n",
        "\n",
        "print(f\"\\n使用的模型：{model_name}\")\n",
        "# ============================================================================\n",
        "\n",
        "\"\"\"\n",
        "為什麼要使用 AutoTokenizer？\n",
        "- 自動根據模型名稱載入對應的 tokenizer\n",
        "- 確保 tokenization 策略與模型匹配\n",
        "- 避免手動管理不同模型的 tokenizer\n",
        "\"\"\"\n",
        "from transformers import AutoTokenizer  # AutoTokenizer 可以根據指定的模型名稱，自動選擇和載入與該模型相匹配的分詞器\n",
        "\n",
        "# 使用指定的 Tokenizer 進行 Tokenization(分詞)\n",
        "tokenizer = AutoTokenizer.from_pretrained(model_name)\n",
        "\n",
        "\n",
        "\"\"\"\n",
        "Tokenization 的關鍵參數：\n",
        "\n",
        "1. padding=\"max_length\"\n",
        "   - 將所有句子補齊到相同長度\n",
        "   - 原因：深度學習模型要求批次(batch)內的輸入長度一致\n",
        "   - 較短的句子會用 [PAD] token 填充\n",
        "\n",
        "2. truncation=True\n",
        "   - 截斷超過最大長度的句子\n",
        "   - BERT 的最大長度通常是 512 tokens\n",
        "   - 避免超長句子導致記憶體不足\n",
        "\n",
        "3. return_tensors=\"pt\" (後面會用到)\n",
        "   - 返回 PyTorch tensor 格式\n",
        "   - 可以直接輸入模型進行運算\n",
        "\"\"\"\n",
        "\n",
        "# 定義 Tokenize 函數，用於將句子轉換為 Token\n",
        "def tokenize_function(example):\n",
        "    # 使用 tokenizer 將每個句子進行分詞\n",
        "    # 設定 padding=\"max_length\" 確保所有句子補齊至固定長度\n",
        "    # 設定 truncation=True 以截斷超過最大長度的句子\n",
        "    return tokenizer(example[\"sentence\"], padding=\"max_length\", truncation=True)\n",
        "\"\"\"\n",
        "Tokenization 結果說明：\n",
        "\n",
        "input_ids：\n",
        "- 將文字轉換成數字 ID\n",
        "- 例如：[101, 2043, 2003, 1996, ...]\n",
        "- 101 是 [CLS] token，表示句子開始\n",
        "- 102 是 [SEP] token，表示句子結束\n",
        "\n",
        "attention_mask：\n",
        "- 標記哪些位置是真實 token (1)，哪些是 padding (0)\n",
        "- 讓模型知道應該關注哪些部分\n",
        "\n",
        "token_type_ids：\n",
        "- 區分不同句子（在句子對任務中使用）\n",
        "- 在單句分類中全部為 0\n",
        "\"\"\"\n",
        "# 對訓練集、驗證集和測試集進行 Tokenize\n",
        "tokenized_train = train_dataset.map(tokenize_function, batched=True)\n",
        "tokenized_val = val_dataset.map(tokenize_function, batched=True)\n",
        "tokenized_test = test_dataset.map(tokenize_function, batched=True)"
      ]
    },
    {
      "cell_type": "code",
      "execution_count": 9,
      "metadata": {
        "colab": {
          "base_uri": "https://localhost:8080/"
        },
        "id": "1UHvNcRfrrjt",
        "outputId": "67f5c389-38d0-450a-94d7-1c223e04f920"
      },
      "outputs": [
        {
          "output_type": "stream",
          "name": "stdout",
          "text": [
            "\n",
            "Tokenized 訓練集第一筆：\n",
            "{'sentence': [\"The financial impact is estimated to be some 1.5 MEUR annual improvement in the division 's result , starting from fiscal year 2007 .\"], 'label': [2], 'input_ids': [[101, 1996, 3361, 4254, 2003, 4358, 2000, 2022, 2070, 1015, 1012, 1019, 2033, 3126, 3296, 7620, 1999, 1996, 2407, 1005, 1055, 2765, 1010, 3225, 2013, 10807, 2095, 2289, 1012, 102, 0, 0, 0, 0, 0, 0, 0, 0, 0, 0, 0, 0, 0, 0, 0, 0, 0, 0, 0, 0, 0, 0, 0, 0, 0, 0, 0, 0, 0, 0, 0, 0, 0, 0, 0, 0, 0, 0, 0, 0, 0, 0, 0, 0, 0, 0, 0, 0, 0, 0, 0, 0, 0, 0, 0, 0, 0, 0, 0, 0, 0, 0, 0, 0, 0, 0, 0, 0, 0, 0, 0, 0, 0, 0, 0, 0, 0, 0, 0, 0, 0, 0, 0, 0, 0, 0, 0, 0, 0, 0, 0, 0, 0, 0, 0, 0, 0, 0, 0, 0, 0, 0, 0, 0, 0, 0, 0, 0, 0, 0, 0, 0, 0, 0, 0, 0, 0, 0, 0, 0, 0, 0, 0, 0, 0, 0, 0, 0, 0, 0, 0, 0, 0, 0, 0, 0, 0, 0, 0, 0, 0, 0, 0, 0, 0, 0, 0, 0, 0, 0, 0, 0, 0, 0, 0, 0, 0, 0, 0, 0, 0, 0, 0, 0, 0, 0, 0, 0, 0, 0, 0, 0, 0, 0, 0, 0, 0, 0, 0, 0, 0, 0, 0, 0, 0, 0, 0, 0, 0, 0, 0, 0, 0, 0, 0, 0, 0, 0, 0, 0, 0, 0, 0, 0, 0, 0, 0, 0, 0, 0, 0, 0, 0, 0, 0, 0, 0, 0, 0, 0, 0, 0, 0, 0, 0, 0, 0, 0, 0, 0, 0, 0, 0, 0, 0, 0, 0, 0, 0, 0, 0, 0, 0, 0, 0, 0, 0, 0, 0, 0, 0, 0, 0, 0, 0, 0, 0, 0, 0, 0, 0, 0, 0, 0, 0, 0, 0, 0, 0, 0, 0, 0, 0, 0, 0, 0, 0, 0, 0, 0, 0, 0, 0, 0, 0, 0, 0, 0, 0, 0, 0, 0, 0, 0, 0, 0, 0, 0, 0, 0, 0, 0, 0, 0, 0, 0, 0, 0, 0, 0, 0, 0, 0, 0, 0, 0, 0, 0, 0, 0, 0, 0, 0, 0, 0, 0, 0, 0, 0, 0, 0, 0, 0, 0, 0, 0, 0, 0, 0, 0, 0, 0, 0, 0, 0, 0, 0, 0, 0, 0, 0, 0, 0, 0, 0, 0, 0, 0, 0, 0, 0, 0, 0, 0, 0, 0, 0, 0, 0, 0, 0, 0, 0, 0, 0, 0, 0, 0, 0, 0, 0, 0, 0, 0, 0, 0, 0, 0, 0, 0, 0, 0, 0, 0, 0, 0, 0, 0, 0, 0, 0, 0, 0, 0, 0, 0, 0, 0, 0, 0, 0, 0, 0, 0, 0, 0, 0, 0, 0, 0, 0, 0, 0, 0, 0, 0, 0, 0, 0, 0, 0, 0, 0, 0, 0, 0, 0, 0, 0, 0, 0, 0, 0, 0, 0, 0, 0, 0, 0, 0, 0, 0, 0, 0, 0, 0, 0, 0, 0, 0, 0, 0, 0, 0, 0, 0, 0, 0, 0, 0, 0, 0, 0, 0, 0, 0, 0, 0, 0, 0, 0, 0]], 'token_type_ids': [[0, 0, 0, 0, 0, 0, 0, 0, 0, 0, 0, 0, 0, 0, 0, 0, 0, 0, 0, 0, 0, 0, 0, 0, 0, 0, 0, 0, 0, 0, 0, 0, 0, 0, 0, 0, 0, 0, 0, 0, 0, 0, 0, 0, 0, 0, 0, 0, 0, 0, 0, 0, 0, 0, 0, 0, 0, 0, 0, 0, 0, 0, 0, 0, 0, 0, 0, 0, 0, 0, 0, 0, 0, 0, 0, 0, 0, 0, 0, 0, 0, 0, 0, 0, 0, 0, 0, 0, 0, 0, 0, 0, 0, 0, 0, 0, 0, 0, 0, 0, 0, 0, 0, 0, 0, 0, 0, 0, 0, 0, 0, 0, 0, 0, 0, 0, 0, 0, 0, 0, 0, 0, 0, 0, 0, 0, 0, 0, 0, 0, 0, 0, 0, 0, 0, 0, 0, 0, 0, 0, 0, 0, 0, 0, 0, 0, 0, 0, 0, 0, 0, 0, 0, 0, 0, 0, 0, 0, 0, 0, 0, 0, 0, 0, 0, 0, 0, 0, 0, 0, 0, 0, 0, 0, 0, 0, 0, 0, 0, 0, 0, 0, 0, 0, 0, 0, 0, 0, 0, 0, 0, 0, 0, 0, 0, 0, 0, 0, 0, 0, 0, 0, 0, 0, 0, 0, 0, 0, 0, 0, 0, 0, 0, 0, 0, 0, 0, 0, 0, 0, 0, 0, 0, 0, 0, 0, 0, 0, 0, 0, 0, 0, 0, 0, 0, 0, 0, 0, 0, 0, 0, 0, 0, 0, 0, 0, 0, 0, 0, 0, 0, 0, 0, 0, 0, 0, 0, 0, 0, 0, 0, 0, 0, 0, 0, 0, 0, 0, 0, 0, 0, 0, 0, 0, 0, 0, 0, 0, 0, 0, 0, 0, 0, 0, 0, 0, 0, 0, 0, 0, 0, 0, 0, 0, 0, 0, 0, 0, 0, 0, 0, 0, 0, 0, 0, 0, 0, 0, 0, 0, 0, 0, 0, 0, 0, 0, 0, 0, 0, 0, 0, 0, 0, 0, 0, 0, 0, 0, 0, 0, 0, 0, 0, 0, 0, 0, 0, 0, 0, 0, 0, 0, 0, 0, 0, 0, 0, 0, 0, 0, 0, 0, 0, 0, 0, 0, 0, 0, 0, 0, 0, 0, 0, 0, 0, 0, 0, 0, 0, 0, 0, 0, 0, 0, 0, 0, 0, 0, 0, 0, 0, 0, 0, 0, 0, 0, 0, 0, 0, 0, 0, 0, 0, 0, 0, 0, 0, 0, 0, 0, 0, 0, 0, 0, 0, 0, 0, 0, 0, 0, 0, 0, 0, 0, 0, 0, 0, 0, 0, 0, 0, 0, 0, 0, 0, 0, 0, 0, 0, 0, 0, 0, 0, 0, 0, 0, 0, 0, 0, 0, 0, 0, 0, 0, 0, 0, 0, 0, 0, 0, 0, 0, 0, 0, 0, 0, 0, 0, 0, 0, 0, 0, 0, 0, 0, 0, 0, 0, 0, 0, 0, 0, 0, 0, 0, 0, 0, 0, 0, 0, 0, 0, 0, 0, 0, 0, 0, 0, 0, 0, 0, 0, 0, 0, 0, 0, 0, 0, 0, 0, 0, 0, 0, 0, 0, 0, 0, 0, 0, 0, 0, 0]], 'attention_mask': [[1, 1, 1, 1, 1, 1, 1, 1, 1, 1, 1, 1, 1, 1, 1, 1, 1, 1, 1, 1, 1, 1, 1, 1, 1, 1, 1, 1, 1, 1, 0, 0, 0, 0, 0, 0, 0, 0, 0, 0, 0, 0, 0, 0, 0, 0, 0, 0, 0, 0, 0, 0, 0, 0, 0, 0, 0, 0, 0, 0, 0, 0, 0, 0, 0, 0, 0, 0, 0, 0, 0, 0, 0, 0, 0, 0, 0, 0, 0, 0, 0, 0, 0, 0, 0, 0, 0, 0, 0, 0, 0, 0, 0, 0, 0, 0, 0, 0, 0, 0, 0, 0, 0, 0, 0, 0, 0, 0, 0, 0, 0, 0, 0, 0, 0, 0, 0, 0, 0, 0, 0, 0, 0, 0, 0, 0, 0, 0, 0, 0, 0, 0, 0, 0, 0, 0, 0, 0, 0, 0, 0, 0, 0, 0, 0, 0, 0, 0, 0, 0, 0, 0, 0, 0, 0, 0, 0, 0, 0, 0, 0, 0, 0, 0, 0, 0, 0, 0, 0, 0, 0, 0, 0, 0, 0, 0, 0, 0, 0, 0, 0, 0, 0, 0, 0, 0, 0, 0, 0, 0, 0, 0, 0, 0, 0, 0, 0, 0, 0, 0, 0, 0, 0, 0, 0, 0, 0, 0, 0, 0, 0, 0, 0, 0, 0, 0, 0, 0, 0, 0, 0, 0, 0, 0, 0, 0, 0, 0, 0, 0, 0, 0, 0, 0, 0, 0, 0, 0, 0, 0, 0, 0, 0, 0, 0, 0, 0, 0, 0, 0, 0, 0, 0, 0, 0, 0, 0, 0, 0, 0, 0, 0, 0, 0, 0, 0, 0, 0, 0, 0, 0, 0, 0, 0, 0, 0, 0, 0, 0, 0, 0, 0, 0, 0, 0, 0, 0, 0, 0, 0, 0, 0, 0, 0, 0, 0, 0, 0, 0, 0, 0, 0, 0, 0, 0, 0, 0, 0, 0, 0, 0, 0, 0, 0, 0, 0, 0, 0, 0, 0, 0, 0, 0, 0, 0, 0, 0, 0, 0, 0, 0, 0, 0, 0, 0, 0, 0, 0, 0, 0, 0, 0, 0, 0, 0, 0, 0, 0, 0, 0, 0, 0, 0, 0, 0, 0, 0, 0, 0, 0, 0, 0, 0, 0, 0, 0, 0, 0, 0, 0, 0, 0, 0, 0, 0, 0, 0, 0, 0, 0, 0, 0, 0, 0, 0, 0, 0, 0, 0, 0, 0, 0, 0, 0, 0, 0, 0, 0, 0, 0, 0, 0, 0, 0, 0, 0, 0, 0, 0, 0, 0, 0, 0, 0, 0, 0, 0, 0, 0, 0, 0, 0, 0, 0, 0, 0, 0, 0, 0, 0, 0, 0, 0, 0, 0, 0, 0, 0, 0, 0, 0, 0, 0, 0, 0, 0, 0, 0, 0, 0, 0, 0, 0, 0, 0, 0, 0, 0, 0, 0, 0, 0, 0, 0, 0, 0, 0, 0, 0, 0, 0, 0, 0, 0, 0, 0, 0, 0, 0, 0, 0, 0, 0, 0, 0, 0, 0, 0, 0, 0, 0, 0, 0, 0, 0, 0, 0, 0, 0, 0, 0, 0, 0, 0, 0, 0, 0, 0, 0, 0, 0, 0]]}\n",
            "\n",
            "Tokenized 驗證集第一筆：\n",
            "{'sentence': [\"We have also cut our price projections for paper and packaging , '' an analyst with Goldman Sachs said on a note on Monday .\"], 'label': [0], 'input_ids': [[101, 2057, 2031, 2036, 3013, 2256, 3976, 21796, 2005, 3259, 1998, 14793, 1010, 1005, 1005, 2019, 12941, 2007, 17765, 22818, 2056, 2006, 1037, 3602, 2006, 6928, 1012, 102, 0, 0, 0, 0, 0, 0, 0, 0, 0, 0, 0, 0, 0, 0, 0, 0, 0, 0, 0, 0, 0, 0, 0, 0, 0, 0, 0, 0, 0, 0, 0, 0, 0, 0, 0, 0, 0, 0, 0, 0, 0, 0, 0, 0, 0, 0, 0, 0, 0, 0, 0, 0, 0, 0, 0, 0, 0, 0, 0, 0, 0, 0, 0, 0, 0, 0, 0, 0, 0, 0, 0, 0, 0, 0, 0, 0, 0, 0, 0, 0, 0, 0, 0, 0, 0, 0, 0, 0, 0, 0, 0, 0, 0, 0, 0, 0, 0, 0, 0, 0, 0, 0, 0, 0, 0, 0, 0, 0, 0, 0, 0, 0, 0, 0, 0, 0, 0, 0, 0, 0, 0, 0, 0, 0, 0, 0, 0, 0, 0, 0, 0, 0, 0, 0, 0, 0, 0, 0, 0, 0, 0, 0, 0, 0, 0, 0, 0, 0, 0, 0, 0, 0, 0, 0, 0, 0, 0, 0, 0, 0, 0, 0, 0, 0, 0, 0, 0, 0, 0, 0, 0, 0, 0, 0, 0, 0, 0, 0, 0, 0, 0, 0, 0, 0, 0, 0, 0, 0, 0, 0, 0, 0, 0, 0, 0, 0, 0, 0, 0, 0, 0, 0, 0, 0, 0, 0, 0, 0, 0, 0, 0, 0, 0, 0, 0, 0, 0, 0, 0, 0, 0, 0, 0, 0, 0, 0, 0, 0, 0, 0, 0, 0, 0, 0, 0, 0, 0, 0, 0, 0, 0, 0, 0, 0, 0, 0, 0, 0, 0, 0, 0, 0, 0, 0, 0, 0, 0, 0, 0, 0, 0, 0, 0, 0, 0, 0, 0, 0, 0, 0, 0, 0, 0, 0, 0, 0, 0, 0, 0, 0, 0, 0, 0, 0, 0, 0, 0, 0, 0, 0, 0, 0, 0, 0, 0, 0, 0, 0, 0, 0, 0, 0, 0, 0, 0, 0, 0, 0, 0, 0, 0, 0, 0, 0, 0, 0, 0, 0, 0, 0, 0, 0, 0, 0, 0, 0, 0, 0, 0, 0, 0, 0, 0, 0, 0, 0, 0, 0, 0, 0, 0, 0, 0, 0, 0, 0, 0, 0, 0, 0, 0, 0, 0, 0, 0, 0, 0, 0, 0, 0, 0, 0, 0, 0, 0, 0, 0, 0, 0, 0, 0, 0, 0, 0, 0, 0, 0, 0, 0, 0, 0, 0, 0, 0, 0, 0, 0, 0, 0, 0, 0, 0, 0, 0, 0, 0, 0, 0, 0, 0, 0, 0, 0, 0, 0, 0, 0, 0, 0, 0, 0, 0, 0, 0, 0, 0, 0, 0, 0, 0, 0, 0, 0, 0, 0, 0, 0, 0, 0, 0, 0, 0, 0, 0, 0, 0, 0, 0, 0, 0, 0, 0, 0, 0, 0, 0, 0, 0, 0, 0, 0, 0, 0, 0, 0, 0, 0, 0, 0, 0, 0, 0, 0, 0, 0, 0, 0, 0, 0, 0, 0, 0, 0, 0, 0, 0, 0, 0, 0, 0, 0, 0, 0, 0]], 'token_type_ids': [[0, 0, 0, 0, 0, 0, 0, 0, 0, 0, 0, 0, 0, 0, 0, 0, 0, 0, 0, 0, 0, 0, 0, 0, 0, 0, 0, 0, 0, 0, 0, 0, 0, 0, 0, 0, 0, 0, 0, 0, 0, 0, 0, 0, 0, 0, 0, 0, 0, 0, 0, 0, 0, 0, 0, 0, 0, 0, 0, 0, 0, 0, 0, 0, 0, 0, 0, 0, 0, 0, 0, 0, 0, 0, 0, 0, 0, 0, 0, 0, 0, 0, 0, 0, 0, 0, 0, 0, 0, 0, 0, 0, 0, 0, 0, 0, 0, 0, 0, 0, 0, 0, 0, 0, 0, 0, 0, 0, 0, 0, 0, 0, 0, 0, 0, 0, 0, 0, 0, 0, 0, 0, 0, 0, 0, 0, 0, 0, 0, 0, 0, 0, 0, 0, 0, 0, 0, 0, 0, 0, 0, 0, 0, 0, 0, 0, 0, 0, 0, 0, 0, 0, 0, 0, 0, 0, 0, 0, 0, 0, 0, 0, 0, 0, 0, 0, 0, 0, 0, 0, 0, 0, 0, 0, 0, 0, 0, 0, 0, 0, 0, 0, 0, 0, 0, 0, 0, 0, 0, 0, 0, 0, 0, 0, 0, 0, 0, 0, 0, 0, 0, 0, 0, 0, 0, 0, 0, 0, 0, 0, 0, 0, 0, 0, 0, 0, 0, 0, 0, 0, 0, 0, 0, 0, 0, 0, 0, 0, 0, 0, 0, 0, 0, 0, 0, 0, 0, 0, 0, 0, 0, 0, 0, 0, 0, 0, 0, 0, 0, 0, 0, 0, 0, 0, 0, 0, 0, 0, 0, 0, 0, 0, 0, 0, 0, 0, 0, 0, 0, 0, 0, 0, 0, 0, 0, 0, 0, 0, 0, 0, 0, 0, 0, 0, 0, 0, 0, 0, 0, 0, 0, 0, 0, 0, 0, 0, 0, 0, 0, 0, 0, 0, 0, 0, 0, 0, 0, 0, 0, 0, 0, 0, 0, 0, 0, 0, 0, 0, 0, 0, 0, 0, 0, 0, 0, 0, 0, 0, 0, 0, 0, 0, 0, 0, 0, 0, 0, 0, 0, 0, 0, 0, 0, 0, 0, 0, 0, 0, 0, 0, 0, 0, 0, 0, 0, 0, 0, 0, 0, 0, 0, 0, 0, 0, 0, 0, 0, 0, 0, 0, 0, 0, 0, 0, 0, 0, 0, 0, 0, 0, 0, 0, 0, 0, 0, 0, 0, 0, 0, 0, 0, 0, 0, 0, 0, 0, 0, 0, 0, 0, 0, 0, 0, 0, 0, 0, 0, 0, 0, 0, 0, 0, 0, 0, 0, 0, 0, 0, 0, 0, 0, 0, 0, 0, 0, 0, 0, 0, 0, 0, 0, 0, 0, 0, 0, 0, 0, 0, 0, 0, 0, 0, 0, 0, 0, 0, 0, 0, 0, 0, 0, 0, 0, 0, 0, 0, 0, 0, 0, 0, 0, 0, 0, 0, 0, 0, 0, 0, 0, 0, 0, 0, 0, 0, 0, 0, 0, 0, 0, 0, 0, 0, 0, 0, 0, 0, 0, 0, 0, 0, 0, 0, 0, 0, 0, 0, 0, 0, 0, 0, 0, 0, 0, 0, 0, 0, 0, 0, 0, 0, 0, 0]], 'attention_mask': [[1, 1, 1, 1, 1, 1, 1, 1, 1, 1, 1, 1, 1, 1, 1, 1, 1, 1, 1, 1, 1, 1, 1, 1, 1, 1, 1, 1, 0, 0, 0, 0, 0, 0, 0, 0, 0, 0, 0, 0, 0, 0, 0, 0, 0, 0, 0, 0, 0, 0, 0, 0, 0, 0, 0, 0, 0, 0, 0, 0, 0, 0, 0, 0, 0, 0, 0, 0, 0, 0, 0, 0, 0, 0, 0, 0, 0, 0, 0, 0, 0, 0, 0, 0, 0, 0, 0, 0, 0, 0, 0, 0, 0, 0, 0, 0, 0, 0, 0, 0, 0, 0, 0, 0, 0, 0, 0, 0, 0, 0, 0, 0, 0, 0, 0, 0, 0, 0, 0, 0, 0, 0, 0, 0, 0, 0, 0, 0, 0, 0, 0, 0, 0, 0, 0, 0, 0, 0, 0, 0, 0, 0, 0, 0, 0, 0, 0, 0, 0, 0, 0, 0, 0, 0, 0, 0, 0, 0, 0, 0, 0, 0, 0, 0, 0, 0, 0, 0, 0, 0, 0, 0, 0, 0, 0, 0, 0, 0, 0, 0, 0, 0, 0, 0, 0, 0, 0, 0, 0, 0, 0, 0, 0, 0, 0, 0, 0, 0, 0, 0, 0, 0, 0, 0, 0, 0, 0, 0, 0, 0, 0, 0, 0, 0, 0, 0, 0, 0, 0, 0, 0, 0, 0, 0, 0, 0, 0, 0, 0, 0, 0, 0, 0, 0, 0, 0, 0, 0, 0, 0, 0, 0, 0, 0, 0, 0, 0, 0, 0, 0, 0, 0, 0, 0, 0, 0, 0, 0, 0, 0, 0, 0, 0, 0, 0, 0, 0, 0, 0, 0, 0, 0, 0, 0, 0, 0, 0, 0, 0, 0, 0, 0, 0, 0, 0, 0, 0, 0, 0, 0, 0, 0, 0, 0, 0, 0, 0, 0, 0, 0, 0, 0, 0, 0, 0, 0, 0, 0, 0, 0, 0, 0, 0, 0, 0, 0, 0, 0, 0, 0, 0, 0, 0, 0, 0, 0, 0, 0, 0, 0, 0, 0, 0, 0, 0, 0, 0, 0, 0, 0, 0, 0, 0, 0, 0, 0, 0, 0, 0, 0, 0, 0, 0, 0, 0, 0, 0, 0, 0, 0, 0, 0, 0, 0, 0, 0, 0, 0, 0, 0, 0, 0, 0, 0, 0, 0, 0, 0, 0, 0, 0, 0, 0, 0, 0, 0, 0, 0, 0, 0, 0, 0, 0, 0, 0, 0, 0, 0, 0, 0, 0, 0, 0, 0, 0, 0, 0, 0, 0, 0, 0, 0, 0, 0, 0, 0, 0, 0, 0, 0, 0, 0, 0, 0, 0, 0, 0, 0, 0, 0, 0, 0, 0, 0, 0, 0, 0, 0, 0, 0, 0, 0, 0, 0, 0, 0, 0, 0, 0, 0, 0, 0, 0, 0, 0, 0, 0, 0, 0, 0, 0, 0, 0, 0, 0, 0, 0, 0, 0, 0, 0, 0, 0, 0, 0, 0, 0, 0, 0, 0, 0, 0, 0, 0, 0, 0, 0, 0, 0, 0, 0, 0, 0, 0, 0, 0, 0, 0, 0, 0, 0, 0, 0, 0, 0, 0, 0, 0, 0, 0, 0, 0]]}\n",
            "\n",
            "Tokenized 測試集第一筆：\n",
            "{'sentence': [\"TeliaSonera TLSN said the offer is in line with its strategy to increase its ownership in core business holdings and would strengthen Eesti Telekom 's offering to its customers .\"], 'label': [2], 'input_ids': [[101, 10093, 7951, 5643, 2527, 1056, 4877, 2078, 2056, 1996, 3749, 2003, 1999, 2240, 2007, 2049, 5656, 2000, 3623, 2049, 6095, 1999, 4563, 2449, 9583, 1998, 2052, 12919, 25212, 16643, 10093, 5937, 5358, 1005, 1055, 5378, 2000, 2049, 6304, 1012, 102, 0, 0, 0, 0, 0, 0, 0, 0, 0, 0, 0, 0, 0, 0, 0, 0, 0, 0, 0, 0, 0, 0, 0, 0, 0, 0, 0, 0, 0, 0, 0, 0, 0, 0, 0, 0, 0, 0, 0, 0, 0, 0, 0, 0, 0, 0, 0, 0, 0, 0, 0, 0, 0, 0, 0, 0, 0, 0, 0, 0, 0, 0, 0, 0, 0, 0, 0, 0, 0, 0, 0, 0, 0, 0, 0, 0, 0, 0, 0, 0, 0, 0, 0, 0, 0, 0, 0, 0, 0, 0, 0, 0, 0, 0, 0, 0, 0, 0, 0, 0, 0, 0, 0, 0, 0, 0, 0, 0, 0, 0, 0, 0, 0, 0, 0, 0, 0, 0, 0, 0, 0, 0, 0, 0, 0, 0, 0, 0, 0, 0, 0, 0, 0, 0, 0, 0, 0, 0, 0, 0, 0, 0, 0, 0, 0, 0, 0, 0, 0, 0, 0, 0, 0, 0, 0, 0, 0, 0, 0, 0, 0, 0, 0, 0, 0, 0, 0, 0, 0, 0, 0, 0, 0, 0, 0, 0, 0, 0, 0, 0, 0, 0, 0, 0, 0, 0, 0, 0, 0, 0, 0, 0, 0, 0, 0, 0, 0, 0, 0, 0, 0, 0, 0, 0, 0, 0, 0, 0, 0, 0, 0, 0, 0, 0, 0, 0, 0, 0, 0, 0, 0, 0, 0, 0, 0, 0, 0, 0, 0, 0, 0, 0, 0, 0, 0, 0, 0, 0, 0, 0, 0, 0, 0, 0, 0, 0, 0, 0, 0, 0, 0, 0, 0, 0, 0, 0, 0, 0, 0, 0, 0, 0, 0, 0, 0, 0, 0, 0, 0, 0, 0, 0, 0, 0, 0, 0, 0, 0, 0, 0, 0, 0, 0, 0, 0, 0, 0, 0, 0, 0, 0, 0, 0, 0, 0, 0, 0, 0, 0, 0, 0, 0, 0, 0, 0, 0, 0, 0, 0, 0, 0, 0, 0, 0, 0, 0, 0, 0, 0, 0, 0, 0, 0, 0, 0, 0, 0, 0, 0, 0, 0, 0, 0, 0, 0, 0, 0, 0, 0, 0, 0, 0, 0, 0, 0, 0, 0, 0, 0, 0, 0, 0, 0, 0, 0, 0, 0, 0, 0, 0, 0, 0, 0, 0, 0, 0, 0, 0, 0, 0, 0, 0, 0, 0, 0, 0, 0, 0, 0, 0, 0, 0, 0, 0, 0, 0, 0, 0, 0, 0, 0, 0, 0, 0, 0, 0, 0, 0, 0, 0, 0, 0, 0, 0, 0, 0, 0, 0, 0, 0, 0, 0, 0, 0, 0, 0, 0, 0, 0, 0, 0, 0, 0, 0, 0, 0, 0, 0, 0, 0, 0, 0, 0, 0, 0, 0, 0, 0, 0, 0, 0, 0, 0, 0, 0, 0, 0, 0, 0, 0, 0, 0, 0, 0, 0, 0, 0, 0, 0, 0, 0, 0, 0, 0, 0, 0, 0, 0, 0, 0, 0]], 'token_type_ids': [[0, 0, 0, 0, 0, 0, 0, 0, 0, 0, 0, 0, 0, 0, 0, 0, 0, 0, 0, 0, 0, 0, 0, 0, 0, 0, 0, 0, 0, 0, 0, 0, 0, 0, 0, 0, 0, 0, 0, 0, 0, 0, 0, 0, 0, 0, 0, 0, 0, 0, 0, 0, 0, 0, 0, 0, 0, 0, 0, 0, 0, 0, 0, 0, 0, 0, 0, 0, 0, 0, 0, 0, 0, 0, 0, 0, 0, 0, 0, 0, 0, 0, 0, 0, 0, 0, 0, 0, 0, 0, 0, 0, 0, 0, 0, 0, 0, 0, 0, 0, 0, 0, 0, 0, 0, 0, 0, 0, 0, 0, 0, 0, 0, 0, 0, 0, 0, 0, 0, 0, 0, 0, 0, 0, 0, 0, 0, 0, 0, 0, 0, 0, 0, 0, 0, 0, 0, 0, 0, 0, 0, 0, 0, 0, 0, 0, 0, 0, 0, 0, 0, 0, 0, 0, 0, 0, 0, 0, 0, 0, 0, 0, 0, 0, 0, 0, 0, 0, 0, 0, 0, 0, 0, 0, 0, 0, 0, 0, 0, 0, 0, 0, 0, 0, 0, 0, 0, 0, 0, 0, 0, 0, 0, 0, 0, 0, 0, 0, 0, 0, 0, 0, 0, 0, 0, 0, 0, 0, 0, 0, 0, 0, 0, 0, 0, 0, 0, 0, 0, 0, 0, 0, 0, 0, 0, 0, 0, 0, 0, 0, 0, 0, 0, 0, 0, 0, 0, 0, 0, 0, 0, 0, 0, 0, 0, 0, 0, 0, 0, 0, 0, 0, 0, 0, 0, 0, 0, 0, 0, 0, 0, 0, 0, 0, 0, 0, 0, 0, 0, 0, 0, 0, 0, 0, 0, 0, 0, 0, 0, 0, 0, 0, 0, 0, 0, 0, 0, 0, 0, 0, 0, 0, 0, 0, 0, 0, 0, 0, 0, 0, 0, 0, 0, 0, 0, 0, 0, 0, 0, 0, 0, 0, 0, 0, 0, 0, 0, 0, 0, 0, 0, 0, 0, 0, 0, 0, 0, 0, 0, 0, 0, 0, 0, 0, 0, 0, 0, 0, 0, 0, 0, 0, 0, 0, 0, 0, 0, 0, 0, 0, 0, 0, 0, 0, 0, 0, 0, 0, 0, 0, 0, 0, 0, 0, 0, 0, 0, 0, 0, 0, 0, 0, 0, 0, 0, 0, 0, 0, 0, 0, 0, 0, 0, 0, 0, 0, 0, 0, 0, 0, 0, 0, 0, 0, 0, 0, 0, 0, 0, 0, 0, 0, 0, 0, 0, 0, 0, 0, 0, 0, 0, 0, 0, 0, 0, 0, 0, 0, 0, 0, 0, 0, 0, 0, 0, 0, 0, 0, 0, 0, 0, 0, 0, 0, 0, 0, 0, 0, 0, 0, 0, 0, 0, 0, 0, 0, 0, 0, 0, 0, 0, 0, 0, 0, 0, 0, 0, 0, 0, 0, 0, 0, 0, 0, 0, 0, 0, 0, 0, 0, 0, 0, 0, 0, 0, 0, 0, 0, 0, 0, 0, 0, 0, 0, 0, 0, 0, 0, 0, 0, 0, 0, 0, 0, 0, 0, 0, 0, 0, 0, 0, 0, 0, 0, 0, 0, 0, 0, 0, 0, 0, 0]], 'attention_mask': [[1, 1, 1, 1, 1, 1, 1, 1, 1, 1, 1, 1, 1, 1, 1, 1, 1, 1, 1, 1, 1, 1, 1, 1, 1, 1, 1, 1, 1, 1, 1, 1, 1, 1, 1, 1, 1, 1, 1, 1, 1, 0, 0, 0, 0, 0, 0, 0, 0, 0, 0, 0, 0, 0, 0, 0, 0, 0, 0, 0, 0, 0, 0, 0, 0, 0, 0, 0, 0, 0, 0, 0, 0, 0, 0, 0, 0, 0, 0, 0, 0, 0, 0, 0, 0, 0, 0, 0, 0, 0, 0, 0, 0, 0, 0, 0, 0, 0, 0, 0, 0, 0, 0, 0, 0, 0, 0, 0, 0, 0, 0, 0, 0, 0, 0, 0, 0, 0, 0, 0, 0, 0, 0, 0, 0, 0, 0, 0, 0, 0, 0, 0, 0, 0, 0, 0, 0, 0, 0, 0, 0, 0, 0, 0, 0, 0, 0, 0, 0, 0, 0, 0, 0, 0, 0, 0, 0, 0, 0, 0, 0, 0, 0, 0, 0, 0, 0, 0, 0, 0, 0, 0, 0, 0, 0, 0, 0, 0, 0, 0, 0, 0, 0, 0, 0, 0, 0, 0, 0, 0, 0, 0, 0, 0, 0, 0, 0, 0, 0, 0, 0, 0, 0, 0, 0, 0, 0, 0, 0, 0, 0, 0, 0, 0, 0, 0, 0, 0, 0, 0, 0, 0, 0, 0, 0, 0, 0, 0, 0, 0, 0, 0, 0, 0, 0, 0, 0, 0, 0, 0, 0, 0, 0, 0, 0, 0, 0, 0, 0, 0, 0, 0, 0, 0, 0, 0, 0, 0, 0, 0, 0, 0, 0, 0, 0, 0, 0, 0, 0, 0, 0, 0, 0, 0, 0, 0, 0, 0, 0, 0, 0, 0, 0, 0, 0, 0, 0, 0, 0, 0, 0, 0, 0, 0, 0, 0, 0, 0, 0, 0, 0, 0, 0, 0, 0, 0, 0, 0, 0, 0, 0, 0, 0, 0, 0, 0, 0, 0, 0, 0, 0, 0, 0, 0, 0, 0, 0, 0, 0, 0, 0, 0, 0, 0, 0, 0, 0, 0, 0, 0, 0, 0, 0, 0, 0, 0, 0, 0, 0, 0, 0, 0, 0, 0, 0, 0, 0, 0, 0, 0, 0, 0, 0, 0, 0, 0, 0, 0, 0, 0, 0, 0, 0, 0, 0, 0, 0, 0, 0, 0, 0, 0, 0, 0, 0, 0, 0, 0, 0, 0, 0, 0, 0, 0, 0, 0, 0, 0, 0, 0, 0, 0, 0, 0, 0, 0, 0, 0, 0, 0, 0, 0, 0, 0, 0, 0, 0, 0, 0, 0, 0, 0, 0, 0, 0, 0, 0, 0, 0, 0, 0, 0, 0, 0, 0, 0, 0, 0, 0, 0, 0, 0, 0, 0, 0, 0, 0, 0, 0, 0, 0, 0, 0, 0, 0, 0, 0, 0, 0, 0, 0, 0, 0, 0, 0, 0, 0, 0, 0, 0, 0, 0, 0, 0, 0, 0, 0, 0, 0, 0, 0, 0, 0, 0, 0, 0, 0, 0, 0, 0, 0, 0, 0, 0, 0, 0, 0, 0, 0, 0, 0, 0, 0, 0, 0, 0, 0, 0, 0, 0, 0, 0]]}\n",
            "\n",
            "訓練集特徵： {'sentence': Value('string'), 'label': Value('int64'), 'input_ids': List(Value('int32')), 'token_type_ids': List(Value('int8')), 'attention_mask': List(Value('int8'))}\n",
            "驗證集特徵： {'sentence': Value('string'), 'label': Value('int64'), 'input_ids': List(Value('int32')), 'token_type_ids': List(Value('int8')), 'attention_mask': List(Value('int8'))}\n",
            "測試集特徵： {'sentence': Value('string'), 'label': Value('int64'), 'input_ids': List(Value('int32')), 'token_type_ids': List(Value('int8')), 'attention_mask': List(Value('int8'))}\n"
          ]
        }
      ],
      "source": [
        "# 查看 Tokenized 資料\n",
        "print(\"\\nTokenized 訓練集第一筆：\")\n",
        "print(tokenized_train[:1])\n",
        "\n",
        "print(\"\\nTokenized 驗證集第一筆：\")\n",
        "print(tokenized_val[:1])\n",
        "\n",
        "print(\"\\nTokenized 測試集第一筆：\")\n",
        "print(tokenized_test[:1])\n",
        "# 確認 tokenized_datasets 是否包含需要的欄位\n",
        "print(\"\\n訓練集特徵：\", tokenized_train.features)\n",
        "print(\"驗證集特徵：\", tokenized_val.features)\n",
        "print(\"測試集特徵：\", tokenized_test.features)"
      ]
    },
    {
      "cell_type": "markdown",
      "metadata": {
        "id": "1B6hjgeKNCOY"
      },
      "source": [
        "### <b>建立模型</b>"
      ]
    },
    {
      "cell_type": "code",
      "execution_count": 10,
      "metadata": {
        "colab": {
          "base_uri": "https://localhost:8080/"
        },
        "id": "CrZKiuOAARK0",
        "outputId": "159f344e-5851-46b1-eee7-d3c0bd4f6330"
      },
      "outputs": [
        {
          "output_type": "execute_result",
          "data": {
            "text/plain": [
              "device(type='cuda')"
            ]
          },
          "metadata": {},
          "execution_count": 10
        }
      ],
      "source": [
        "import torch  # 深度學習框架\n",
        "\"\"\"\n",
        "為什麼要檢查 GPU？\n",
        "- GPU 的平行運算能力遠超 CPU（通常快 10-100 倍）\n",
        "- 深度學習涉及大量矩陣運算，適合 GPU 加速\n",
        "- 如果有 GPU 可用，應該優先使用\n",
        "\n",
        "CUDA 是什麼？\n",
        "- NVIDIA 的平行運算平台\n",
        "- PyTorch 透過 CUDA 調用 GPU\n",
        "- torch.cuda.is_available() 檢查是否有可用的 GPU\n",
        "\"\"\"\n",
        "# 如果有GPU就用GPU，沒有GPU用CPU\n",
        "device = torch.device(\"cuda\" if torch.cuda.is_available() else \"cpu\")\n",
        "device"
      ]
    },
    {
      "cell_type": "code",
      "execution_count": 11,
      "metadata": {
        "colab": {
          "base_uri": "https://localhost:8080/",
          "height": 862,
          "referenced_widgets": [
            "314e2555b9f44481b4f2afbfef21f4b4",
            "a0dec1286d10433dbadf8b33f852d72c",
            "ee67add545094c98adf44022aa1485bc",
            "36f13fe894e64366a690d58d2691642f",
            "2ba77e318c6f4ad299028972bfb81ecd",
            "fbd279adac644238b166b563cf6aa9ab",
            "63b5e777912f42239ca4b0a7389ad003",
            "614b3a2e8ec74cb3b6c40191b409f237",
            "26a2ef772d73408c95599322495845e5",
            "ac45921344e84dfe8b5e1e896071ff78",
            "83df9dd11717451c8d12580faaf84e16",
            "57a5185708514ad1a7e645fb47e021c2",
            "0bf20818652c42e29a2c4e67d2bedfcd",
            "f0e1089d40574b52bffb42b112895352",
            "a3f76ec5e50140768bbb07d456c48614",
            "1b1698277f984b7c8f58532df79d2add",
            "77c03862a3a04174a2576959580b3433",
            "c73e0f7ce62348fe9db956a8e25deba1",
            "0d67e868073a4600af079d5fa0d2728c",
            "feb09cb70a7844698c779ba9990df6b5",
            "e850d792373a49e0804ced223e30d49c",
            "1d63cf13d8434e1aa46a527e45d6b929"
          ]
        },
        "id": "1tHKgx_jtRkK",
        "outputId": "6972a2a2-9181-4ff7-d1af-366bcf5c7f19"
      },
      "outputs": [
        {
          "output_type": "display_data",
          "data": {
            "text/plain": [
              "pytorch_model.bin:   0%|          | 0.00/438M [00:00<?, ?B/s]"
            ],
            "application/vnd.jupyter.widget-view+json": {
              "version_major": 2,
              "version_minor": 0,
              "model_id": "314e2555b9f44481b4f2afbfef21f4b4"
            }
          },
          "metadata": {}
        },
        {
          "output_type": "display_data",
          "data": {
            "text/plain": [
              "model.safetensors:   0%|          | 0.00/438M [00:00<?, ?B/s]"
            ],
            "application/vnd.jupyter.widget-view+json": {
              "version_major": 2,
              "version_minor": 0,
              "model_id": "57a5185708514ad1a7e645fb47e021c2"
            }
          },
          "metadata": {}
        },
        {
          "output_type": "execute_result",
          "data": {
            "text/plain": [
              "BertForSequenceClassification(\n",
              "  (bert): BertModel(\n",
              "    (embeddings): BertEmbeddings(\n",
              "      (word_embeddings): Embedding(30522, 768, padding_idx=0)\n",
              "      (position_embeddings): Embedding(512, 768)\n",
              "      (token_type_embeddings): Embedding(2, 768)\n",
              "      (LayerNorm): LayerNorm((768,), eps=1e-12, elementwise_affine=True)\n",
              "      (dropout): Dropout(p=0.1, inplace=False)\n",
              "    )\n",
              "    (encoder): BertEncoder(\n",
              "      (layer): ModuleList(\n",
              "        (0-11): 12 x BertLayer(\n",
              "          (attention): BertAttention(\n",
              "            (self): BertSdpaSelfAttention(\n",
              "              (query): Linear(in_features=768, out_features=768, bias=True)\n",
              "              (key): Linear(in_features=768, out_features=768, bias=True)\n",
              "              (value): Linear(in_features=768, out_features=768, bias=True)\n",
              "              (dropout): Dropout(p=0.1, inplace=False)\n",
              "            )\n",
              "            (output): BertSelfOutput(\n",
              "              (dense): Linear(in_features=768, out_features=768, bias=True)\n",
              "              (LayerNorm): LayerNorm((768,), eps=1e-12, elementwise_affine=True)\n",
              "              (dropout): Dropout(p=0.1, inplace=False)\n",
              "            )\n",
              "          )\n",
              "          (intermediate): BertIntermediate(\n",
              "            (dense): Linear(in_features=768, out_features=3072, bias=True)\n",
              "            (intermediate_act_fn): GELUActivation()\n",
              "          )\n",
              "          (output): BertOutput(\n",
              "            (dense): Linear(in_features=3072, out_features=768, bias=True)\n",
              "            (LayerNorm): LayerNorm((768,), eps=1e-12, elementwise_affine=True)\n",
              "            (dropout): Dropout(p=0.1, inplace=False)\n",
              "          )\n",
              "        )\n",
              "      )\n",
              "    )\n",
              "    (pooler): BertPooler(\n",
              "      (dense): Linear(in_features=768, out_features=768, bias=True)\n",
              "      (activation): Tanh()\n",
              "    )\n",
              "  )\n",
              "  (dropout): Dropout(p=0.1, inplace=False)\n",
              "  (classifier): Linear(in_features=768, out_features=3, bias=True)\n",
              ")"
            ]
          },
          "metadata": {},
          "execution_count": 11
        }
      ],
      "source": [
        "from transformers import AutoModelForSequenceClassification  # 序列分類模型\n",
        "\"\"\"\n",
        "什麼是遷移學習(Transfer Learning)？\n",
        "\n",
        "1. 預訓練(Pre-training)階段\n",
        "   - 在大規模文本語料上預訓練\n",
        "   - 學習通用的語言理解能力\n",
        "   - BERT 在 BookCorpus 和 Wikipedia 上訓練\n",
        "\n",
        "2. 微調(Fine-tuning)階段\n",
        "   - 在特定任務上微調模型\n",
        "   - 只需要較少的標註資料\n",
        "   - 適應特定領域（如金融文本）\n",
        "\n",
        "為什麼設定 num_labels=3？\n",
        "- 我們的任務是三分類：Negative, Neutral, Positive\n",
        "- 模型最後會輸出 3 個分數(logits)\n",
        "- 透過 softmax 轉換成機率分佈\n",
        "\n",
        "model.to(device) 的作用？\n",
        "- 將模型參數移動到 GPU 上\n",
        "- 確保模型和輸入資料在同一個裝置\n",
        "\"\"\"\n",
        "\n",
        "# 載入模型（使用作業區域 1 選擇的模型）\n",
        "model = AutoModelForSequenceClassification.from_pretrained(model_name, num_labels=3)\n",
        "model.to(device)  # 將模型移到對應裝置"
      ]
    },
    {
      "cell_type": "code",
      "execution_count": 12,
      "metadata": {
        "id": "eWoT1FbOtURf"
      },
      "outputs": [],
      "source": [
        "from transformers import TrainingArguments  # 包裝訓練參數\n",
        "\n",
        "training_args = TrainingArguments(\n",
        "    output_dir=\"./results\",          # 訓練結果的儲存位置，包括模型檔案和預測結果。\n",
        "    eval_strategy=\"epoch\",     # 設置評估策略為每個訓練輪次（epoch）結束後進行一次評估。\n",
        "    learning_rate=2e-5,              # 設置學習率，這裡使用 2e-5，通常較小的學習率更適合微調預訓練模型。\n",
        "    per_device_train_batch_size=4,   # 設定每個裝置（如每張 GPU）的訓練批次大小為 4。\n",
        "    per_device_eval_batch_size=4,    # 設定每個裝置的評估批次大小為 4。\n",
        "    num_train_epochs=3,              # 訓練輪次設定為 3，模型將完整遍歷訓練集三次。\n",
        "    weight_decay=0.01,               # 設置權重衰減（L2正則化）參數，這裡為 0.01，用於防止過擬合。\n",
        "    logging_dir=\"./logs\",            # 日誌存放目錄，用於儲存 TensorBoard 或其他日誌。\n",
        "    logging_steps=10,                # 設置每 10 個步驟記錄一次訓練信息，便於監控訓練過程。\n",
        "    report_to=\"none\",                 # 不將訓練日誌發送到任何平臺（如 TensorBoard），可以改為 \"tensorboard\" 以啟用。\n",
        ")"
      ]
    },
    {
      "cell_type": "code",
      "execution_count": 13,
      "metadata": {
        "id": "lqJBOVlQtZzx"
      },
      "outputs": [],
      "source": [
        "from sklearn.metrics import accuracy_score, precision_recall_fscore_support\n",
        "import numpy as np\n",
        "\n",
        "\"\"\"\n",
        "為什麼需要這些評估指標？\n",
        "\n",
        "1. Accuracy (準確率)\n",
        "   公式：(預測正確的樣本數) / (總樣本數)\n",
        "   優點：直觀易懂\n",
        "   缺點：在類別不平衡時會誤導\n",
        "\n",
        "2. Precision (精確率)\n",
        "   公式：(真正例) / (真正例 + 假正例)\n",
        "   意義：預測為正例的樣本中，真正為正例的比例\n",
        "   應用：當誤報代價高時重視精確率\n",
        "\n",
        "3. Recall (召回率)\n",
        "   公式：(真正例) / (真正例 + 假負例)\n",
        "   意義：所有正例中，被正確預測的比例\n",
        "   應用：當漏報代價高時重視召回率\n",
        "\n",
        "4. F1-score (F1分數)\n",
        "   公式：2 * (Precision * Recall) / (Precision + Recall)\n",
        "   意義：精確率和召回率的調和平均\n",
        "   優點：綜合考慮兩者，適合類別不平衡\n",
        "\n",
        "為什麼使用 average=\"weighted\"？\n",
        "- 根據每個類別的樣本數加權平均\n",
        "- 考慮類別不平衡的影響\n",
        "- 更能反映整體表現\n",
        "\n",
        "在金融情緒分析中的重要性：\n",
        "- Precision 高：減少誤判（例如誤把中性當成正面）\n",
        "- Recall 高：不錯過重要信號（例如不漏掉負面新聞）\n",
        "- F1-score 高：整體表現好\n",
        "\"\"\"\n",
        "\n",
        "def compute_metrics(pred):\n",
        "    labels = pred.label_ids  # 取得真實值的id\n",
        "    preds = np.argmax(pred.predictions, axis=1)  # 預測值找到最高機率的索引\n",
        "    accuracy = accuracy_score(labels, preds)  # 計算準確率\n",
        "    precision, recall, f1, _ = precision_recall_fscore_support(labels, preds, average=\"weighted\")  # 計算其他指標\n",
        "    return {\"accuracy\": accuracy, \"precision\": precision, \"recall\": recall, \"f1\": f1}"
      ]
    },
    {
      "cell_type": "code",
      "execution_count": 14,
      "metadata": {
        "colab": {
          "base_uri": "https://localhost:8080/",
          "height": 204
        },
        "id": "AJHPmtdQtgyc",
        "outputId": "a781baf4-b606-4cf2-b484-7269645c45a5"
      },
      "outputs": [
        {
          "output_type": "display_data",
          "data": {
            "text/plain": [
              "<IPython.core.display.HTML object>"
            ],
            "text/html": [
              "\n",
              "    <div>\n",
              "      \n",
              "      <progress value='2328' max='2328' style='width:300px; height:20px; vertical-align: middle;'></progress>\n",
              "      [2328/2328 16:59, Epoch 3/3]\n",
              "    </div>\n",
              "    <table border=\"1\" class=\"dataframe\">\n",
              "  <thead>\n",
              " <tr style=\"text-align: left;\">\n",
              "      <th>Epoch</th>\n",
              "      <th>Training Loss</th>\n",
              "      <th>Validation Loss</th>\n",
              "      <th>Accuracy</th>\n",
              "      <th>Precision</th>\n",
              "      <th>Recall</th>\n",
              "      <th>F1</th>\n",
              "    </tr>\n",
              "  </thead>\n",
              "  <tbody>\n",
              "    <tr>\n",
              "      <td>1</td>\n",
              "      <td>0.236900</td>\n",
              "      <td>0.490565</td>\n",
              "      <td>0.872423</td>\n",
              "      <td>0.874108</td>\n",
              "      <td>0.872423</td>\n",
              "      <td>0.869854</td>\n",
              "    </tr>\n",
              "    <tr>\n",
              "      <td>2</td>\n",
              "      <td>0.278600</td>\n",
              "      <td>0.608179</td>\n",
              "      <td>0.868557</td>\n",
              "      <td>0.875764</td>\n",
              "      <td>0.868557</td>\n",
              "      <td>0.870047</td>\n",
              "    </tr>\n",
              "    <tr>\n",
              "      <td>3</td>\n",
              "      <td>0.001900</td>\n",
              "      <td>0.620478</td>\n",
              "      <td>0.876289</td>\n",
              "      <td>0.877076</td>\n",
              "      <td>0.876289</td>\n",
              "      <td>0.876593</td>\n",
              "    </tr>\n",
              "  </tbody>\n",
              "</table><p>"
            ]
          },
          "metadata": {}
        },
        {
          "output_type": "execute_result",
          "data": {
            "text/plain": [
              "TrainOutput(global_step=2328, training_loss=0.3154320978536351, metrics={'train_runtime': 1021.1676, 'train_samples_per_second': 9.11, 'train_steps_per_second': 2.28, 'total_flos': 2447744125123584.0, 'train_loss': 0.3154320978536351, 'epoch': 3.0})"
            ]
          },
          "metadata": {},
          "execution_count": 14
        }
      ],
      "source": [
        "from transformers import Trainer\n",
        "\n",
        "\"\"\"\n",
        "Trainer 類別的作用：\n",
        "- 封裝了完整的訓練流程\n",
        "- 自動處理：\n",
        "  ✓ 梯度計算和參數更新\n",
        "  ✓ 批次資料載入\n",
        "  ✓ 學習率調整\n",
        "  ✓ 驗證集評估\n",
        "  ✓ Checkpoint 儲存\n",
        "  ✓ 日誌記錄\n",
        "\n",
        "為什麼使用高階 API？\n",
        "- 減少樣板代碼(boilerplate code)\n",
        "- 避免常見錯誤\n",
        "- 專注於模型和資料\n",
        "- 便於快速實驗\n",
        "\n",
        "訓練過程中會發生什麼？\n",
        "1. 前向傳播(Forward pass)\n",
        "   - 輸入資料經過模型，得到預測結果\n",
        "\n",
        "2. 計算損失(Loss calculation)\n",
        "   - 比較預測結果和真實標籤\n",
        "   - 使用交叉熵損失(Cross-entropy loss)\n",
        "\n",
        "3. 反向傳播(Backward pass)\n",
        "   - 計算損失對參數的梯度\n",
        "\n",
        "4. 參數更新(Parameter update)\n",
        "   - 使用梯度和學習率更新參數\n",
        "   - 優化器：AdamW (Adam with weight decay)\n",
        "\n",
        "5. 驗證評估(Validation)\n",
        "   - 每個 epoch 結束後在驗證集上評估\n",
        "   - 不更新參數，只計算指標\n",
        "\"\"\"\n",
        "\n",
        "trainer = Trainer(\n",
        "    model=model,\n",
        "    args=training_args,\n",
        "    train_dataset=tokenized_train,  # 使用訓練集\n",
        "    eval_dataset=tokenized_val,     # 使用驗證集（從訓練集切出來的）\n",
        "    compute_metrics=compute_metrics,\n",
        ")\n",
        "\n",
        "# 開始訓練\n",
        "trainer.train()"
      ]
    },
    {
      "cell_type": "markdown",
      "metadata": {
        "id": "O2CSuye8NPbm"
      },
      "source": [
        "### <b>結果評估</b>"
      ]
    },
    {
      "cell_type": "code",
      "execution_count": 15,
      "metadata": {
        "colab": {
          "base_uri": "https://localhost:8080/",
          "height": 109
        },
        "id": "QUKztZcotkI7",
        "outputId": "249f22b6-c9c7-4350-aaa2-2658daff014d"
      },
      "outputs": [
        {
          "output_type": "stream",
          "name": "stdout",
          "text": [
            "\n",
            "=== 驗證集評估結果 ===\n"
          ]
        },
        {
          "output_type": "display_data",
          "data": {
            "text/plain": [
              "<IPython.core.display.HTML object>"
            ],
            "text/html": [
              "\n",
              "    <div>\n",
              "      \n",
              "      <progress value='194' max='194' style='width:300px; height:20px; vertical-align: middle;'></progress>\n",
              "      [194/194 00:23]\n",
              "    </div>\n",
              "    "
            ]
          },
          "metadata": {}
        },
        {
          "output_type": "stream",
          "name": "stdout",
          "text": [
            "{'eval_loss': 0.6204783320426941, 'eval_accuracy': 0.8762886597938144, 'eval_precision': 0.877075862841775, 'eval_recall': 0.8762886597938144, 'eval_f1': 0.876592504682786, 'eval_runtime': 23.6642, 'eval_samples_per_second': 32.792, 'eval_steps_per_second': 8.198, 'epoch': 3.0}\n"
          ]
        }
      ],
      "source": [
        "# 評估模型在驗證集的表現\n",
        "\n",
        "print(\"\\n=== 驗證集評估結果 ===\")\n",
        "val_result = trainer.evaluate(eval_dataset=tokenized_val)\n",
        "print(val_result)"
      ]
    },
    {
      "cell_type": "code",
      "execution_count": 16,
      "metadata": {
        "id": "0-jwOnoGwA5r",
        "colab": {
          "base_uri": "https://localhost:8080/",
          "height": 109
        },
        "outputId": "fd08462b-9410-4ccf-84a8-5ce4d9cd89d1"
      },
      "outputs": [
        {
          "output_type": "stream",
          "name": "stdout",
          "text": [
            "\n",
            "=== 測試集評估結果（最終評估）===\n"
          ]
        },
        {
          "output_type": "display_data",
          "data": {
            "text/plain": [
              "<IPython.core.display.HTML object>"
            ],
            "text/html": [
              "\n",
              "    <div>\n",
              "      \n",
              "      <progress value='437' max='194' style='width:300px; height:20px; vertical-align: middle;'></progress>\n",
              "      [194/194 00:52]\n",
              "    </div>\n",
              "    "
            ]
          },
          "metadata": {}
        },
        {
          "output_type": "stream",
          "name": "stdout",
          "text": [
            "{'eval_loss': 0.6447749137878418, 'eval_accuracy': 0.8720330237358102, 'eval_precision': 0.8732292913913698, 'eval_recall': 0.8720330237358102, 'eval_f1': 0.872451745069848, 'eval_runtime': 29.1322, 'eval_samples_per_second': 33.262, 'eval_steps_per_second': 8.341, 'epoch': 3.0}\n"
          ]
        }
      ],
      "source": [
        "# 評估模型在測試集的表現（最終評估）\n",
        "print(\"\\n=== 測試集評估結果（最終評估）===\")\n",
        "test_result = trainer.evaluate(eval_dataset=tokenized_test)\n",
        "print(test_result)"
      ]
    },
    {
      "cell_type": "markdown",
      "metadata": {
        "id": "PSgCkDKhwF_o"
      },
      "source": [
        "### <b2>使用測試集進行預測展示</b>\n"
      ]
    },
    {
      "cell_type": "code",
      "execution_count": 17,
      "metadata": {
        "colab": {
          "base_uri": "https://localhost:8080/"
        },
        "id": "V5ypsiDh1ACF",
        "outputId": "4fdb8a1f-561c-409e-bb2f-e3e727db18a9"
      },
      "outputs": [
        {
          "output_type": "stream",
          "name": "stdout",
          "text": [
            "\n",
            "=== 測試集句子展示 ===\n",
            "以下是測試集中的前 50 個句子：\n",
            "\n",
            "[0] TeliaSonera TLSN said the offer is in line with its strategy to increase its ownership in core business holdings and would strengthen Eesti Telekom 's offering to its customers .\n",
            "    真實標籤：Positive\n",
            "\n",
            "[1] STORA ENSO , NORSKE SKOG , M-REAL , UPM-KYMMENE Credit Suisse First Boston ( CFSB ) raised the fair value for shares in four of the largest Nordic forestry groups .\n",
            "    真實標籤：Positive\n",
            "\n",
            "[2] Clothing retail chain Sepp+ñl+ñ 's sales increased by 8 % to EUR 155.2 mn , and operating profit rose to EUR 31.1 mn from EUR 17.1 mn in 2004 .\n",
            "    真實標籤：Positive\n",
            "\n",
            "[3] Lifetree was founded in 2000 , and its revenues have risen on an average by 40 % with margins in late 30s .\n",
            "    真實標籤：Positive\n",
            "\n",
            "[4] Nordea Group 's operating profit increased in 2010 by 18 percent year-on-year to 3.64 billion euros and total revenue by 3 percent to 9.33 billion euros .\n",
            "    真實標籤：Positive\n",
            "\n",
            "[5] Operating profit for the nine-month period increased from EUR3 .1 m and net sales increased from EUR61 .5 m , as compared to the corresponding period in 2007 .\n",
            "    真實標籤：Positive\n",
            "\n",
            "[6] The Lithuanian beer market made up 14.41 million liters in January , a rise of 0.8 percent from the year-earlier figure , the Lithuanian Brewers ' Association reporting citing the results from its members .\n",
            "    真實標籤：Positive\n",
            "\n",
            "[7] In January-September 2010 , Fiskars ' net profit went up by 14 % year-on-year to EUR 65.4 million and net sales to EUR 525.3 million from EUR 487.7 million .\n",
            "    真實標籤：Positive\n",
            "\n",
            "[8] Net income from life insurance rose to EUR 16.5 mn from EUR 14.0 mn , and net income from non-life insurance to EUR 22.6 mn from EUR 15.2 mn in 2009 .\n",
            "    真實標籤：Positive\n",
            "\n",
            "[9] Nyrstar has also agreed to supply to Talvivaara up to 150,000 tonnes of sulphuric acid per annum for use in Talvivaara 's leaching process during the period of supply of the zinc in concentrate .\n",
            "    真實標籤：Positive\n",
            "\n",
            "[10] The agreement strengthens our long-term partnership with Nokia Siemens Networks .\n",
            "    真實標籤：Positive\n",
            "\n",
            "[11] KESKO CORPORATION STOCK EXCHANGE RELEASE 28.02.2008 AT 09.30 1 ( 1 ) Kesko Corporation and Aspo plc today signed an agreement by which Aspo acquires the share capital of Kauko-Telko Ltd , a subsidiary wholly owned by Kesko .\n",
            "    真實標籤：Positive\n",
            "\n",
            "[12] The OMX Helsinki 25 index was up 0.92 pct at 2,518.67 and the Helsinki CAP portfolio index was 0.91 pct higher at 4,711.19 .\n",
            "    真實標籤：Positive\n",
            "\n",
            "[13] Tiimari operates 194 stores in six countries -- including its core Finnish market -- and generated a turnover of 76.5 mln eur in 2005 .\n",
            "    真實標籤：Neutral\n",
            "\n",
            "[14] Under this agreement Biohit becomes a focus supplier of pipettors and disposable pipettor tips to VWR customers throughout Europe .\n",
            "    真實標籤：Positive\n",
            "\n",
            "[15] Adjusted for changes in the Group structure , the Division 's net sales increased by 1.7 % .\n",
            "    真實標籤：Positive\n",
            "\n",
            "[16] Finnish Aktia Group 's operating profit rose to EUR 17.5 mn in the first quarter of 2010 from EUR 8.2 mn in the first quarter of 2009 .\n",
            "    真實標籤：Positive\n",
            "\n",
            "[17] Finnish high technology provider Vaahto Group reports net sales of EUR 41.8 mn in the accounting period September 2007 - February 2008 , an increase of 11.2 % from a year earlier .\n",
            "    真實標籤：Positive\n",
            "\n",
            "[18] Biohit already services many current Genesis customers and the customer base is expected to expand as a result of this agreement .\n",
            "    真實標籤：Positive\n",
            "\n",
            "[19] Circulation revenue has increased by 5 % in Finland and 4 % in Sweden in 2008 .\n",
            "    真實標籤：Positive\n",
            "\n",
            "[20] In 2009 , Fiskars ' cash flow from operating activities amounted to EUR121m , up from EUR97m in the previous year .\n",
            "    真實標籤：Positive\n",
            "\n",
            "[21] Operating profit margin increased from 11.2 % to 11.7 % .\n",
            "    真實標籤：Positive\n",
            "\n",
            "[22] The circuit 's overall production rate on a weekly basis is now in excess of an average of 40,000 tonnes per day , with volumes in excess of 50,000 tonnes per day being reached on individual days .\n",
            "    真實標籤：Positive\n",
            "\n",
            "[23] The last quarter was the best quarter of 2009 in net sales , and the operating margin rose to 12.2 % .\n",
            "    真實標籤：Positive\n",
            "\n",
            "[24] The transaction doubles Tecnomens workforse , and adds a fourth to their net sales .\n",
            "    真實標籤：Positive\n",
            "\n",
            "[25] `` The priority for 2009 was to strengthen the company 's balance sheet and increase cash flow , '' CEO Hannu Krook said .\n",
            "    真實標籤：Positive\n",
            "\n",
            "[26] A structures BIM ( building information modeling ) software from Tekla , a model-based software provider , has been adopted for the construction management and delivery of a university project in Abu Dhabi .\n",
            "    真實標籤：Neutral\n",
            "\n",
            "[27] According to Finnish Metso Minerals , the value of the company 's orders has gone up to EUR 1.9 bn in 12 months .\n",
            "    真實標籤：Positive\n",
            "\n",
            "[28] Finnish forest machinery manufacturer Ponsse 's net sales grew to EUR 51.3 mn in the first quarter of 2010 from EUR 37.5 mn in the corresponding period in 2009 .\n",
            "    真實標籤：Positive\n",
            "\n",
            "[29] Finnish KCI Konecranes has raised its net sales growth estimate for 2006 from over 25 % to over 35 % .\n",
            "    真實標籤：Positive\n",
            "\n",
            "[30] Finnish pharmaceuticals company Orion 's net sales rose to EUR 190mn in the first quarter of 2009 from EUR 180mn in the first quarter of 2008 .\n",
            "    真實標籤：Positive\n",
            "\n",
            "[31] Again , the most significant sales increase of 18.6 % was in Russia .\n",
            "    真實標籤：Positive\n",
            "\n",
            "[32] Also Lemmink+ñinen 's profit for accounting period went up to EUR 3.1 mn from EUR -24.5 mn a year ago .\n",
            "    真實標籤：Positive\n",
            "\n",
            "[33] Besides we have increased the share of meat in various sausages and are offering a number of new tastes in the grill products and shish kebabs segment , '' Paavel said .\n",
            "    真實標籤：Positive\n",
            "\n",
            "[34] Both operating profit and net sales for the three-month period increased , respectively from EUR16 .0 m and EUR139m , as compared to the corresponding quarter in 2006 .\n",
            "    真實標籤：Positive\n",
            "\n",
            "[35] Diluted earnings per share ( EPS ) rose to EUR 3.68 from EUR 0.50 .\n",
            "    真實標籤：Positive\n",
            "\n",
            "[36] Finnish cutlery and hand tools maker Fiskars Oyj Abp ( HEL : FISAS ) said today its net profit rose to EUR 24.1 million ( USD 33.6 m ) in the third quarter of 2010 from EUR 17.9 million a year earlier .\n",
            "    真實標籤：Positive\n",
            "\n",
            "[37] HELSINKI ( AFX ) - Retail and wholesale group Kesko reported net sales of 659.4 mln eur for February , an increase of 10.8 pct year-on-year .\n",
            "    真實標籤：Positive\n",
            "\n",
            "[38] In December alone , the members of the Lithuanian Brewers ' Association sold a total of 20.3 million liters of beer , an increase of 1.9 percent from the sales of 19.92 million liters in December 2004 .\n",
            "    真實標籤：Positive\n",
            "\n",
            "[39] In Sweden , operating profit for the period under review totaled EUR 3.4 mn , up 30.8 % from the corresponding period in 2005 .\n",
            "    真實標籤：Positive\n",
            "\n",
            "[40] In the second quarter of 2010 , the group 's net profit rose to EUR 3.1 million from EUR 2.5 million in April-June 2009 .\n",
            "    真實標籤：Positive\n",
            "\n",
            "[41] Its market share widened to 48.51 percent from 48.31 percent a year earlier .\n",
            "    真實標籤：Positive\n",
            "\n",
            "[42] ( ADP News ) - Feb 11 , 2009 - Finnish management software solutions provider Ixonos Oyj ( HEL : XNS1V ) said today its net profit rose to EUR 3.5 million ( USD 4.5 m ) for 2008 from EUR 3.1 million for 2007 .\n",
            "    真實標籤：Positive\n",
            "\n",
            "[43] ( ADP News ) - Feb 6 , 2009 - Finnish fishing tackle company Rapala VMC Corp ( HEL : RAP1V ) said today its net profit rose to EUR 19.2 million ( USD 24.6 m ) for 2008 from EUR 17.5 million for 2007 .\n",
            "    真實標籤：Positive\n",
            "\n",
            "[44] ( ADP News ) - Oct 29 , 2008 - Finnish lifting equipment maker Konecranes Oyj ( OMX : KCR1V ) said today that its net profit rose to EUR 116.6 million ( USD 149.1 m ) in the first nine months of 2008 from EUR 73.6 million for the s\n",
            "    真實標籤：Positive\n",
            "\n",
            "[45] Net interest income increased by 4.5 % to EUR 31.4 mn from EUR 30.0 mn in 2004 .\n",
            "    真實標籤：Positive\n",
            "\n",
            "[46] Operating income rose to EUR 696.4 mn from EUR 600.3 mn in 2009 .\n",
            "    真實標籤：Positive\n",
            "\n",
            "[47] Operating profit rose to EUR 13.5 mn from EUR 9.7 mn in the corresponding period in 2006 .\n",
            "    真實標籤：Positive\n",
            "\n",
            "[48] Operating profit rose to EUR 4.7 mn from EUR 4.6 mn .\n",
            "    真實標籤：Positive\n",
            "\n",
            "[49] Operating profit totaled EUR 37,7 mn , up slightly from EUR 37.2 mn in the corresponding period in 2006 .\n",
            "    真實標籤：Positive\n",
            "\n"
          ]
        }
      ],
      "source": [
        "# 先展示測試集中的句子，讓學生了解有哪些資料\n",
        "print(\"\\n=== 測試集句子展示 ===\")\n",
        "print(\"以下是測試集中的前 50 個句子：\\n\")\n",
        "\n",
        "label_map = {0: \"Negative\", 1: \"Neutral\", 2: \"Positive\"}\n",
        "\n",
        "for i in range(50):\n",
        "    sentence = test_dataset[i][\"sentence\"]\n",
        "    label = test_dataset[i][\"label\"]\n",
        "    print(f\"[{i}] {sentence}\")\n",
        "    print(f\"    真實標籤：{label_map[label]}\\n\")"
      ]
    },
    {
      "cell_type": "code",
      "execution_count": 19,
      "metadata": {
        "id": "ZmWdctbTwO_f",
        "colab": {
          "base_uri": "https://localhost:8080/"
        },
        "outputId": "0ee0cbf2-4e19-4cb7-c856-00a0173d507f"
      },
      "outputs": [
        {
          "output_type": "stream",
          "name": "stdout",
          "text": [
            "\n",
            "你選擇測試的句子索引：[12, 24, 36, 48, 50]\n",
            "\n",
            "=== 開始預測 ===\n",
            "\n",
            "你選擇的 5 個句子的預測結果：\n",
            "\n",
            "1. 測試集索引 [12]\n",
            "   句子：The OMX Helsinki 25 index was up 0.92 pct at 2,518.67 and the Helsinki CAP portfolio index was 0.91 pct higher at 4,711.19 .\n",
            "   真實標籤：Positive\n",
            "   預測標籤：Positive\n",
            "   結果：✓ 正確\n",
            "\n",
            "2. 測試集索引 [24]\n",
            "   句子：The transaction doubles Tecnomens workforse , and adds a fourth to their net sales .\n",
            "   真實標籤：Positive\n",
            "   預測標籤：Positive\n",
            "   結果：✓ 正確\n",
            "\n",
            "3. 測試集索引 [36]\n",
            "   句子：Finnish cutlery and hand tools maker Fiskars Oyj Abp ( HEL : FISAS ) said today its net profit rose to EUR 24.1 million ( USD 33.6 m ) in the third quarter of 2010 from EUR 17.9 million a year earlier .\n",
            "   真實標籤：Positive\n",
            "   預測標籤：Positive\n",
            "   結果：✓ 正確\n",
            "\n",
            "4. 測試集索引 [48]\n",
            "   句子：Operating profit rose to EUR 4.7 mn from EUR 4.6 mn .\n",
            "   真實標籤：Positive\n",
            "   預測標籤：Positive\n",
            "   結果：✓ 正確\n",
            "\n",
            "5. 測試集索引 [50]\n",
            "   句子：Orion Pharma 's operating profit increased by 42.5 % from 2004 .\n",
            "   真實標籤：Positive\n",
            "   預測標籤：Positive\n",
            "   結果：✓ 正確\n",
            "\n",
            "準確率：5/5 = 100.00%\n"
          ]
        }
      ],
      "source": [
        "# 請從上面顯示的測試集句子中，選擇你想要測試的句子索引\n",
        "#\n",
        "# 選擇特定的句子索引\n",
        "# 例如：test_indices = [0, 5, 10, 15, 19]\n",
        "#\n",
        "# 提示：\n",
        "# - 可以選擇不同情緒的句子來測試\n",
        "# - 觀察模型在哪些句子上預測正確，哪些預測錯誤\n",
        "# - 思考為什麼模型會預測錯誤\n",
        "\n",
        "#test_indices = [0, 9, 11, 7, 8]  # 請修改這裡！選擇你想測試的句子索引\n",
        "test_indices = [12, 24, 36, 48, 50]  # 請修改這裡！選擇你想測試的句子索引\n",
        "\n",
        "print(f\"\\n你選擇測試的句子索引：{test_indices}\")\n",
        "# ============================================================================\n",
        "\n",
        "# 根據選擇的索引，取得測試句子\n",
        "test_texts = [test_dataset[i][\"sentence\"] for i in test_indices]\n",
        "true_labels = [test_dataset[i][\"label\"] for i in test_indices]\n",
        "\n",
        "print(\"\\n=== 開始預測 ===\\n\")\n",
        "\n",
        "\"\"\"\n",
        "預測流程說明：\n",
        "\n",
        "1. 取得測試句子和真實標籤\n",
        "   - 根據選擇的索引提取句子\n",
        "\n",
        "2. Tokenization\n",
        "   - 將句子轉換成模型輸入格式\n",
        "   - return_tensors=\"pt\" 返回 PyTorch tensor\n",
        "\n",
        "3. 模型推理\n",
        "   - 將 tokenized 資料輸入模型\n",
        "   - 得到 logits（未標準化的分數）\n",
        "\n",
        "4. 預測類別\n",
        "   - 使用 argmax 取得分數最高的類別\n",
        "   - 轉換回 CPU 以便後續處理\n",
        "\n",
        "5. 結果展示\n",
        "   - 顯示原始句子、真實標籤、預測標籤\n",
        "   - 標記預測是否正確\n",
        "   - 計算準確率\n",
        "\"\"\"\n",
        "\n",
        "# Tokenize 測試句子\n",
        "test_encodings = tokenizer(test_texts, truncation=True, padding=True, return_tensors=\"pt\").to(device)\n",
        "outputs = model(**test_encodings)\n",
        "\n",
        "# 取得預測結果\n",
        "preds = torch.argmax(outputs.logits, dim=1).cpu().numpy()  # 將結果轉回 CPU 以便處理\n",
        "\n",
        "# 顯示預測結果\n",
        "predicted_labels = [label_map[pred] for pred in preds]\n",
        "true_labels_text = [label_map[label] for label in true_labels]\n",
        "\n",
        "# 計算準確率\n",
        "correct = sum([1 for true, pred in zip(true_labels_text, predicted_labels) if true == pred])\n",
        "accuracy = correct / len(test_texts) * 100\n",
        "\n",
        "print(f\"你選擇的 {len(test_texts)} 個句子的預測結果：\\n\")\n",
        "\n",
        "for i, (idx, text, true_label, pred_label) in enumerate(zip(test_indices, test_texts, true_labels_text, predicted_labels)):\n",
        "    correct_mark = \"✓ 正確\" if true_label == pred_label else \"✗ 錯誤\"\n",
        "    print(f\"{i+1}. 測試集索引 [{idx}]\")\n",
        "    print(f\"   句子：{text}\")\n",
        "    print(f\"   真實標籤：{true_label}\")\n",
        "    print(f\"   預測標籤：{pred_label}\")\n",
        "    print(f\"   結果：{correct_mark}\\n\")\n",
        "\n",
        "print(f\"準確率：{correct}/{len(test_texts)} = {accuracy:.2f}%\")"
      ]
    }
  ],
  "metadata": {
    "accelerator": "GPU",
    "colab": {
      "gpuType": "T4",
      "provenance": [],
      "toc_visible": true
    },
    "kernelspec": {
      "display_name": "Python 3",
      "name": "python3"
    },
    "language_info": {
      "codemirror_mode": {
        "name": "ipython",
        "version": 3
      },
      "file_extension": ".py",
      "mimetype": "text/x-python",
      "name": "python",
      "nbconvert_exporter": "python",
      "pygments_lexer": "ipython3",
      "version": "3.9.17"
    },
  },
  "nbformat": 4,
  "nbformat_minor": 0
}